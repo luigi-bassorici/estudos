{
 "cells": [
  {
   "cell_type": "code",
   "execution_count": 2,
   "metadata": {
    "ExecuteTime": {
     "end_time": "2022-10-12T17:15:51.710780Z",
     "start_time": "2022-10-12T17:15:51.370984Z"
    },
    "code_folding": [
     0
    ]
   },
   "outputs": [],
   "source": [
    "# 🐍 ⚜️ 🍁 imports\n",
    "import numpy as np\n",
    "import pandas as pd\n",
    "import random as rd"
   ]
  },
  {
   "cell_type": "markdown",
   "metadata": {
    "heading_collapsed": true
   },
   "source": [
    "### 🐍 pd.Series"
   ]
  },
  {
   "cell_type": "markdown",
   "metadata": {
    "hidden": true
   },
   "source": [
    "pd.Series(data, index, dtype, name, copy)"
   ]
  },
  {
   "cell_type": "markdown",
   "metadata": {
    "heading_collapsed": true,
    "hidden": true
   },
   "source": [
    "#### ⚜️ data "
   ]
  },
  {
   "cell_type": "markdown",
   "metadata": {
    "hidden": true
   },
   "source": [
    "- recebe um iterável como uma lista ou tupla\n",
    "\n",
    "- recebe um dicionário\n",
    "    nesse caso não passar index, do contrário ele sobrescreve o index labels e considera os values = NaN\n",
    "\n",
    "- recebe array-like"
   ]
  },
  {
   "cell_type": "markdown",
   "metadata": {
    "heading_collapsed": true,
    "hidden": true
   },
   "source": [
    "#### ⚜️ index"
   ]
  },
  {
   "cell_type": "markdown",
   "metadata": {
    "hidden": true
   },
   "source": [
    "- padrão =  RangeIndex, um objeto enxuto qu epossui apenas três informações que ficam carregadas na memoria (start, stop, step)\n",
    "\n",
    "- se eu passar uma iterable ela precisa do mesmo len() de data, essa iterable será passada para a função Index([iterable]), que eu não sei como funciona"
   ]
  },
  {
   "cell_type": "markdown",
   "metadata": {
    "heading_collapsed": true,
    "hidden": true
   },
   "source": [
    "#### ⚜️ dtype"
   ]
  },
  {
   "cell_type": "markdown",
   "metadata": {
    "hidden": true
   },
   "source": [
    "- padrão = pandas infere com base nos dados que eu passo, numericos são 64bits\n",
    "\n",
    "- str especificando o tipo de dado \n",
    "    ex.: 'int32'"
   ]
  },
  {
   "cell_type": "markdown",
   "metadata": {
    "heading_collapsed": true,
    "hidden": true
   },
   "source": [
    "#### ⚜️ name"
   ]
  },
  {
   "cell_type": "markdown",
   "metadata": {
    "hidden": true
   },
   "source": [
    "- padrão = sem nome\n",
    "- posso nomear com uma str"
   ]
  },
  {
   "cell_type": "markdown",
   "metadata": {
    "heading_collapsed": true,
    "hidden": true
   },
   "source": [
    "#### ⚜️ copy"
   ]
  },
  {
   "cell_type": "markdown",
   "metadata": {
    "hidden": true
   },
   "source": [
    "faz com que a iterable passada (se for uma variável) tambémm esteja sucetível as mudanças que essa Series virá a sofrer\n",
    "\n",
    "- padrão = False\n",
    "\n",
    "- True cria a depedência de uma a outra"
   ]
  },
  {
   "cell_type": "markdown",
   "metadata": {
    "heading_collapsed": true
   },
   "source": [
    "### 🐍 Exemplos"
   ]
  },
  {
   "cell_type": "markdown",
   "metadata": {
    "hidden": true
   },
   "source": [
    "posso passar qualquer uma dessas variáveis como parametros data:"
   ]
  },
  {
   "cell_type": "code",
   "execution_count": 2,
   "metadata": {
    "ExecuteTime": {
     "end_time": "2022-09-27T17:29:01.121650Z",
     "start_time": "2022-09-27T17:29:01.119036Z"
    },
    "hidden": true
   },
   "outputs": [],
   "source": [
    "tupla = (1, 2, 3)\n",
    "lista = [1, 2, 3]\n",
    "dicionario = {'a':1, 'b':2, 'c':3}\n",
    "array = np.array((1, 2, 3))"
   ]
  },
  {
   "cell_type": "code",
   "execution_count": 4,
   "metadata": {
    "hidden": true
   },
   "outputs": [
    {
     "data": {
      "text/plain": [
       "a    1\n",
       "b    2\n",
       "c    3\n",
       "Name: exemplinho, dtype: int16"
      ]
     },
     "execution_count": 4,
     "metadata": {},
     "output_type": "execute_result"
    }
   ],
   "source": [
    "# vou buscar usar as tuplas sempre que possível visando a performance\n",
    "pd.Series(\n",
    "    data = tupla,\n",
    "    index = ('a', 'b', 'c'),\n",
    "    dtype = 'int16',\n",
    "    name = 'exemplinho',\n",
    "    copy = False,\n",
    ")"
   ]
  },
  {
   "cell_type": "markdown",
   "metadata": {},
   "source": [
    "### 🐍 Propriedades"
   ]
  },
  {
   "cell_type": "markdown",
   "metadata": {},
   "source": [
    "para acessar uma propriedade são usados atributos ou métodos, já que uma Series é uma \n",
    "classe, não vou me alongar nessa seção, pois certos atributos e funções devem vir após certos conhecimentos..."
   ]
  },
  {
   "cell_type": "code",
   "execution_count": 61,
   "metadata": {
    "ExecuteTime": {
     "end_time": "2022-10-12T18:53:14.676583Z",
     "start_time": "2022-10-12T18:53:14.670487Z"
    },
    "collapsed": true
   },
   "outputs": [
    {
     "data": {
      "text/plain": [
       "0    0\n",
       "1    1\n",
       "2    2\n",
       "3    3\n",
       "4    4\n",
       "5    5\n",
       "6    6\n",
       "7    7\n",
       "8    8\n",
       "9    9\n",
       "dtype: int64"
      ]
     },
     "execution_count": 61,
     "metadata": {},
     "output_type": "execute_result"
    }
   ],
   "source": [
    "serie = pd.Series(data = (i for i in range(10)))\n",
    "serie"
   ]
  },
  {
   "cell_type": "markdown",
   "metadata": {
    "heading_collapsed": true
   },
   "source": [
    "#### ⚜️ dtype"
   ]
  },
  {
   "cell_type": "markdown",
   "metadata": {
    "hidden": true
   },
   "source": [
    "esse atributo contem o tipo de dados dos valores dessa serie"
   ]
  },
  {
   "cell_type": "code",
   "execution_count": 62,
   "metadata": {
    "ExecuteTime": {
     "end_time": "2022-10-12T19:19:48.706007Z",
     "start_time": "2022-10-12T19:19:48.700354Z"
    },
    "hidden": true
   },
   "outputs": [
    {
     "data": {
      "text/plain": [
       "dtype('int64')"
      ]
     },
     "execution_count": 62,
     "metadata": {},
     "output_type": "execute_result"
    }
   ],
   "source": [
    "serie.dtype"
   ]
  },
  {
   "cell_type": "markdown",
   "metadata": {
    "heading_collapsed": true
   },
   "source": [
    "#### ⚜️ .astype()"
   ]
  },
  {
   "cell_type": "markdown",
   "metadata": {
    "hidden": true
   },
   "source": [
    "serve para mudar o dtype de uma serie"
   ]
  },
  {
   "cell_type": "markdown",
   "metadata": {
    "hidden": true
   },
   "source": [
    "na verdade ele cria uma serie nova fazendo um cast da entrada para x tipo de dados, existem 2 parâmetros importantes:"
   ]
  },
  {
   "cell_type": "markdown",
   "metadata": {
    "heading_collapsed": true,
    "hidden": true
   },
   "source": [
    "#####  🍁 dtype"
   ]
  },
  {
   "cell_type": "markdown",
   "metadata": {
    "hidden": true
   },
   "source": [
    "passar o tipo de dados que eu desejo fazer o cast"
   ]
  },
  {
   "cell_type": "markdown",
   "metadata": {
    "heading_collapsed": true,
    "hidden": true
   },
   "source": [
    "##### 🍁 copy = True"
   ]
  },
  {
   "cell_type": "markdown",
   "metadata": {
    "hidden": true
   },
   "source": [
    "when True\n",
    "    faz com que return uma deep copy\n",
    "when False\n",
    "    faz com que return uma copy comum, ou seja, vai alterar o original"
   ]
  },
  {
   "cell_type": "markdown",
   "metadata": {
    "hidden": true
   },
   "source": [
    "na dúvida não mexer em copy..."
   ]
  },
  {
   "cell_type": "markdown",
   "metadata": {
    "heading_collapsed": true,
    "hidden": true
   },
   "source": [
    "##### 🍁 obs importante"
   ]
  },
  {
   "cell_type": "markdown",
   "metadata": {
    "hidden": true
   },
   "source": [
    "quando eu quero alterar o dtype da Serie original eu preciso sobscrever a Serie com o objeto qeu astype() irá retornar, pois astype é praticamente descartável..."
   ]
  },
  {
   "cell_type": "code",
   "execution_count": null,
   "metadata": {
    "hidden": true
   },
   "outputs": [],
   "source": [
    "# alterando o dtype de verdade\n",
    "Series = Series.astype(dtype = x)"
   ]
  },
  {
   "cell_type": "markdown",
   "metadata": {
    "heading_collapsed": true
   },
   "source": [
    "#### ⚜️ head()"
   ]
  },
  {
   "cell_type": "markdown",
   "metadata": {
    "hidden": true
   },
   "source": [
    "mostra os n primeiros itens da series\n",
    "\n",
    "- padrão n = 5"
   ]
  },
  {
   "cell_type": "code",
   "execution_count": 15,
   "metadata": {
    "hidden": true
   },
   "outputs": [
    {
     "data": {
      "text/plain": [
       "0    0\n",
       "1    1\n",
       "dtype: int64"
      ]
     },
     "execution_count": 15,
     "metadata": {},
     "output_type": "execute_result"
    }
   ],
   "source": [
    "serie.head(n = 2)"
   ]
  },
  {
   "cell_type": "markdown",
   "metadata": {
    "heading_collapsed": true
   },
   "source": [
    "#### ⚜️ tail()"
   ]
  },
  {
   "cell_type": "markdown",
   "metadata": {
    "hidden": true
   },
   "source": [
    "mostra os n últimos elementos de uma series\n",
    "\n",
    "- padrão n = 5"
   ]
  },
  {
   "cell_type": "code",
   "execution_count": 14,
   "metadata": {
    "hidden": true
   },
   "outputs": [
    {
     "data": {
      "text/plain": [
       "8    8\n",
       "9    9\n",
       "dtype: int64"
      ]
     },
     "execution_count": 14,
     "metadata": {},
     "output_type": "execute_result"
    }
   ],
   "source": [
    "serie.tail(n = 2)"
   ]
  },
  {
   "cell_type": "markdown",
   "metadata": {
    "heading_collapsed": true
   },
   "source": [
    "#### ⚜️ memory_usage()"
   ]
  },
  {
   "cell_type": "markdown",
   "metadata": {
    "hidden": true
   },
   "source": [
    "retorna o tamnho da series em bytes"
   ]
  },
  {
   "cell_type": "code",
   "execution_count": 18,
   "metadata": {
    "hidden": true
   },
   "outputs": [
    {
     "data": {
      "text/plain": [
       "208"
      ]
     },
     "execution_count": 18,
     "metadata": {},
     "output_type": "execute_result"
    }
   ],
   "source": [
    "serie.memory_usage()"
   ]
  },
  {
   "cell_type": "markdown",
   "metadata": {
    "heading_collapsed": true
   },
   "source": [
    "#### ⚜️ Series.values_counts()"
   ]
  },
  {
   "cell_type": "markdown",
   "metadata": {
    "hidden": true
   },
   "source": [
    "a ideia é que eu passe uma série com categorias ou algo parecido, o metodo me retorna uma nova Series contendo \n",
    "\n",
    "\"quantas vezes se repetiu cada valor\"\n",
    "\n",
    "e ainda passa o valor como index label"
   ]
  }
 ],
 "metadata": {
  "kernelspec": {
   "display_name": "Python 3 (ipykernel)",
   "language": "python",
   "name": "python3"
  },
  "language_info": {
   "codemirror_mode": {
    "name": "ipython",
    "version": 3
   },
   "file_extension": ".py",
   "mimetype": "text/x-python",
   "name": "python",
   "nbconvert_exporter": "python",
   "pygments_lexer": "ipython3",
   "version": "3.8.10"
  },
  "varInspector": {
   "cols": {
    "lenName": 16,
    "lenType": 16,
    "lenVar": 40
   },
   "kernels_config": {
    "python": {
     "delete_cmd_postfix": "",
     "delete_cmd_prefix": "del ",
     "library": "var_list.py",
     "varRefreshCmd": "print(var_dic_list())"
    },
    "r": {
     "delete_cmd_postfix": ") ",
     "delete_cmd_prefix": "rm(",
     "library": "var_list.r",
     "varRefreshCmd": "cat(var_dic_list()) "
    }
   },
   "types_to_exclude": [
    "module",
    "function",
    "builtin_function_or_method",
    "instance",
    "_Feature"
   ],
   "window_display": false
  },
  "vscode": {
   "interpreter": {
    "hash": "f5db08454a0b1238edc0f56a261ed9f2dc4b855ed6fc98f464cff27a088defca"
   }
  }
 },
 "nbformat": 4,
 "nbformat_minor": 2
}
