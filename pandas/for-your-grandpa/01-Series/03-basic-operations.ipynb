{
 "cells": [
  {
   "cell_type": "code",
   "execution_count": 3,
   "id": "772e8e0b",
   "metadata": {
    "ExecuteTime": {
     "end_time": "2022-10-10T19:30:35.819992Z",
     "start_time": "2022-10-10T19:30:35.511612Z"
    },
    "code_folding": [
     0
    ]
   },
   "outputs": [],
   "source": [
    "# 🐍 ⚜️ 🍁\n",
    "import pandas as pd\n",
    "import numpy as np\n",
    "import random as rd"
   ]
  },
  {
   "cell_type": "markdown",
   "id": "bc420da4",
   "metadata": {},
   "source": [
    "### 🐍 index alignment"
   ]
  },
  {
   "cell_type": "markdown",
   "id": "bbcc3767",
   "metadata": {},
   "source": [
    "\"alinhamento dos índices\"\n",
    "\n",
    "explicando a mecanica que rege as interações entre dois objetos\n",
    "\n",
    "o que aocntece quando, por exemplo, eu somo uma serie a outra ?"
   ]
  },
  {
   "cell_type": "code",
   "execution_count": null,
   "id": "4e3375ea",
   "metadata": {
    "ExecuteTime": {
     "end_time": "2022-09-27T19:07:58.058467Z",
     "start_time": "2022-09-27T19:07:58.054608Z"
    }
   },
   "outputs": [],
   "source": [
    "serie_1 = pd.Series(data = (10, 20, 30, 40, 50))\n",
    "serie_2 = pd.Series(data = (1, 2, 3, 4, 5))\n",
    "\n",
    "print(serie_1 + serie_2)"
   ]
  },
  {
   "cell_type": "markdown",
   "id": "33436c9d",
   "metadata": {},
   "source": [
    "a ideia que dá é que o pandas percorre os dois objetos como se fosse um zip(), posição por posição de cada um, e dentro dessa estrutura ele cria uma nova que é a resposta da operação para cada item\n",
    "\n",
    "mas na realidade ele se referencia pelo index label não pela posição.\n",
    "\n",
    "mas e se eu mudar os index labels, como ele reage então?"
   ]
  },
  {
   "cell_type": "code",
   "execution_count": 8,
   "id": "542a6678",
   "metadata": {
    "ExecuteTime": {
     "end_time": "2022-09-27T19:20:53.370744Z",
     "start_time": "2022-09-27T19:20:53.365521Z"
    }
   },
   "outputs": [
    {
     "name": "stdout",
     "output_type": "stream",
     "text": [
      "0    51\n",
      "1    42\n",
      "2    33\n",
      "3    24\n",
      "4    15\n",
      "dtype: int64\n"
     ]
    }
   ],
   "source": [
    "serie_1 = pd.Series(data = (10, 20, 30, 40, 50), index = (4, 3, 2, 1, 0))\n",
    "serie_2 = pd.Series(data = (1, 2, 3, 4, 5))\n",
    "\n",
    "print(serie_1 + serie_2)"
   ]
  },
  {
   "cell_type": "markdown",
   "id": "b6aefd60",
   "metadata": {},
   "source": [
    "se eu quiser fazer isso pela posição? \n",
    "\n",
    "veja a celula a seguir\n"
   ]
  },
  {
   "cell_type": "markdown",
   "id": "89f50371",
   "metadata": {},
   "source": [
    "#### ⚜️ Series.to_numpy() "
   ]
  },
  {
   "cell_type": "markdown",
   "id": "81da3d62",
   "metadata": {},
   "source": [
    "que faz o cast para umma ndarray, e somar as duas ndarrays, depois eu passo essa unica array como parametro para a criação de uma nova series"
   ]
  },
  {
   "cell_type": "code",
   "execution_count": 11,
   "id": "f27ff503",
   "metadata": {
    "ExecuteTime": {
     "end_time": "2022-09-27T19:21:22.873406Z",
     "start_time": "2022-09-27T19:21:22.863404Z"
    }
   },
   "outputs": [
    {
     "data": {
      "text/plain": [
       "0    11\n",
       "1    22\n",
       "2    33\n",
       "3    44\n",
       "4    55\n",
       "dtype: int64"
      ]
     },
     "execution_count": 11,
     "metadata": {},
     "output_type": "execute_result"
    }
   ],
   "source": [
    "array = serie_1.to_numpy() + serie_2.to_numpy()\n",
    "nova_serie = pd.Series(data = array)\n",
    "nova_serie"
   ]
  },
  {
   "cell_type": "markdown",
   "id": "3c87d992",
   "metadata": {},
   "source": [
    "o que acontece quando eu somo uma series de 9 itens com uma de 10 itens por exemplo ?"
   ]
  },
  {
   "cell_type": "markdown",
   "id": "2b8f8f61",
   "metadata": {
    "heading_collapsed": true
   },
   "source": [
    "### 🐍 operações com series de tamanhos diferentes"
   ]
  },
  {
   "cell_type": "markdown",
   "id": "3063156e",
   "metadata": {
    "hidden": true
   },
   "source": [
    "vou criar uma serie a com 8 itens e uma b com 5, depois vou somar e vamos ver o que acontece"
   ]
  },
  {
   "cell_type": "code",
   "execution_count": 21,
   "id": "245848bb",
   "metadata": {
    "ExecuteTime": {
     "end_time": "2022-09-27T19:44:10.578011Z",
     "start_time": "2022-09-27T19:44:10.572406Z"
    },
    "hidden": true
   },
   "outputs": [
    {
     "name": "stdout",
     "output_type": "stream",
     "text": [
      "0    0.0\n",
      "1    2.0\n",
      "2    4.0\n",
      "3    6.0\n",
      "4    8.0\n",
      "5    NaN\n",
      "6    NaN\n",
      "7    NaN\n",
      "dtype: float64\n"
     ]
    }
   ],
   "source": [
    "a = pd.Series(data = [i for i in range(8)])\n",
    "b = pd.Series(data = [i for i in range(5)])\n",
    "\n",
    "print(a + b)"
   ]
  },
  {
   "cell_type": "markdown",
   "id": "aa21a7b5",
   "metadata": {
    "hidden": true
   },
   "source": [
    "o que aconteceu é que inde tnham dois itens correspondentes, de mesma posição, ele fez a soma, e onde tinha apenas um ele completou com NaN\n",
    "\n",
    "obs: quando eu adiciono um dado NaN a um conjunto de inteiros, o pandas automaticamente faz o cast de cada dado para float"
   ]
  },
  {
   "cell_type": "markdown",
   "id": "2307914f",
   "metadata": {
    "heading_collapsed": true,
    "hidden": true
   },
   "source": [
    "#### ⚜️ como somar só os que possuem pares correspondentes"
   ]
  },
  {
   "cell_type": "markdown",
   "id": "4ae6d0a3",
   "metadata": {
    "hidden": true
   },
   "source": [
    "para fazer isso eu preciso dizer para ele somar apenas um intervalo de a, com todo o b, já que b que está faltando alguns itens\n",
    "\n",
    "sendo assim, eu precis selecionar o exato intervalo contido em a correspondente ao tamanho total de b\n",
    "\n",
    "posso fazer isso usando o .index"
   ]
  },
  {
   "cell_type": "code",
   "execution_count": 22,
   "id": "88cda8e1",
   "metadata": {
    "ExecuteTime": {
     "end_time": "2022-09-27T19:44:16.842208Z",
     "start_time": "2022-09-27T19:44:16.838608Z"
    },
    "hidden": true
   },
   "outputs": [
    {
     "data": {
      "text/plain": [
       "RangeIndex(start=0, stop=5, step=1)"
      ]
     },
     "execution_count": 22,
     "metadata": {},
     "output_type": "execute_result"
    }
   ],
   "source": [
    "b.index"
   ]
  },
  {
   "cell_type": "markdown",
   "id": "448b7354",
   "metadata": {
    "ExecuteTime": {
     "end_time": "2022-09-27T19:42:22.519712Z",
     "start_time": "2022-09-27T19:42:22.515820Z"
    },
    "hidden": true
   },
   "source": [
    "posso passar isso como parâmetro para o metodo loc, pois se trata de index label.\n",
    "\n",
    "o pandas vai entender o seguinte\"cada um nesse intervalo agora será o seu valor mais o valor do par correspondente de b\""
   ]
  },
  {
   "cell_type": "code",
   "execution_count": 23,
   "id": "cdfef84f",
   "metadata": {
    "ExecuteTime": {
     "end_time": "2022-09-27T19:44:18.851860Z",
     "start_time": "2022-09-27T19:44:18.847528Z"
    },
    "hidden": true
   },
   "outputs": [
    {
     "name": "stdout",
     "output_type": "stream",
     "text": [
      "0    0\n",
      "1    2\n",
      "2    4\n",
      "3    6\n",
      "4    8\n",
      "5    5\n",
      "6    6\n",
      "7    7\n",
      "dtype: int64\n"
     ]
    }
   ],
   "source": [
    "a.loc[b.index] += b\n",
    "print(a)"
   ]
  },
  {
   "cell_type": "markdown",
   "id": "1339b4c4",
   "metadata": {
    "hidden": true
   },
   "source": [
    "onde tinha par foi mexido, onde não tinha, não!"
   ]
  }
 ],
 "metadata": {
  "kernelspec": {
   "display_name": "Python 3 (ipykernel)",
   "language": "python",
   "name": "python3"
  },
  "language_info": {
   "codemirror_mode": {
    "name": "ipython",
    "version": 3
   },
   "file_extension": ".py",
   "mimetype": "text/x-python",
   "name": "python",
   "nbconvert_exporter": "python",
   "pygments_lexer": "ipython3",
   "version": "3.10.6"
  },
  "varInspector": {
   "cols": {
    "lenName": 16,
    "lenType": 16,
    "lenVar": 40
   },
   "kernels_config": {
    "python": {
     "delete_cmd_postfix": "",
     "delete_cmd_prefix": "del ",
     "library": "var_list.py",
     "varRefreshCmd": "print(var_dic_list())"
    },
    "r": {
     "delete_cmd_postfix": ") ",
     "delete_cmd_prefix": "rm(",
     "library": "var_list.r",
     "varRefreshCmd": "cat(var_dic_list()) "
    }
   },
   "types_to_exclude": [
    "module",
    "function",
    "builtin_function_or_method",
    "instance",
    "_Feature"
   ],
   "window_display": false
  },
  "vscode": {
   "interpreter": {
    "hash": "94d098d1ff3700422bfbc5f0ac644824c38817c1a7468c8671264635dd686f01"
   }
  }
 },
 "nbformat": 4,
 "nbformat_minor": 5
}
