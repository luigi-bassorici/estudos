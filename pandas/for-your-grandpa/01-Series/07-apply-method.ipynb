{
 "cells": [
  {
   "cell_type": "code",
   "execution_count": 2,
   "id": "2f781451",
   "metadata": {
    "ExecuteTime": {
     "end_time": "2022-10-11T23:15:11.717711Z",
     "start_time": "2022-10-11T23:15:11.509038Z"
    },
    "code_folding": [
     0
    ]
   },
   "outputs": [],
   "source": [
    "# 🐍 ⚜️ 🍁 imports\n",
    "import pandas as pd\n",
    "import numpy as np\n",
    "import random as rd"
   ]
  },
  {
   "cell_type": "markdown",
   "id": "1fa716cd",
   "metadata": {},
   "source": [
    "### 🐍 Series.apply()"
   ]
  },
  {
   "cell_type": "markdown",
   "id": "fc7cbf49",
   "metadata": {},
   "source": [
    "Series.apply (func, convert_dtype = True, args, **kwargs)"
   ]
  },
  {
   "cell_type": "markdown",
   "id": "bdbbc1f9",
   "metadata": {
    "heading_collapsed": true
   },
   "source": [
    "####  ⚜️ Parâmetros"
   ]
  },
  {
   "cell_type": "markdown",
   "id": "a0c3514e",
   "metadata": {
    "heading_collapsed": true,
    "hidden": true
   },
   "source": [
    "##### 🍁 func"
   ]
  },
  {
   "cell_type": "markdown",
   "id": "29e602d0",
   "metadata": {
    "hidden": true
   },
   "source": [
    "nome da funçãoque eu desejo aplicar"
   ]
  },
  {
   "cell_type": "markdown",
   "id": "84be3455",
   "metadata": {
    "heading_collapsed": true,
    "hidden": true
   },
   "source": [
    "##### 🍁 convert_dtype"
   ]
  },
  {
   "cell_type": "markdown",
   "id": "d24a746e",
   "metadata": {
    "hidden": true
   },
   "source": [
    "when True:\n",
    "\n",
    "    faz com que o pandas tente determinar um dtype melhor para as saídas\n",
    "    \n",
    "when False:\n",
    "\n",
    "    faz com que todas saídas tenham seu dtype = object"
   ]
  },
  {
   "cell_type": "markdown",
   "id": "319dfe3d",
   "metadata": {
    "heading_collapsed": true,
    "hidden": true
   },
   "source": [
    "##### 🍁 args : ()"
   ]
  },
  {
   "cell_type": "markdown",
   "id": "af0bc090",
   "metadata": {
    "hidden": true
   },
   "source": [
    "recebe uma tupla contendo os argumentos para a função"
   ]
  },
  {
   "cell_type": "markdown",
   "id": "63cdd730",
   "metadata": {
    "heading_collapsed": true,
    "hidden": true
   },
   "source": [
    "##### 🍁 **kwargs"
   ]
  },
  {
   "cell_type": "markdown",
   "id": "c4f6cbd4",
   "metadata": {
    "hidden": true
   },
   "source": [
    "não entendi direito, aparentemente é para quando eu passo mais argumentos que a função deve receber"
   ]
  },
  {
   "cell_type": "markdown",
   "id": "47e5c941",
   "metadata": {
    "heading_collapsed": true
   },
   "source": [
    "#### ⚜️ with lambda functions"
   ]
  },
  {
   "cell_type": "markdown",
   "id": "f6295238",
   "metadata": {
    "hidden": true
   },
   "source": [
    "por estudar"
   ]
  },
  {
   "cell_type": "markdown",
   "id": "da4380b7",
   "metadata": {},
   "source": [
    "#### ⚜️ exemplos"
   ]
  },
  {
   "cell_type": "code",
   "execution_count": 13,
   "id": "de96e2c9",
   "metadata": {
    "ExecuteTime": {
     "end_time": "2022-10-10T19:56:20.923800Z",
     "start_time": "2022-10-10T19:56:20.917740Z"
    },
    "code_folding": [
     0,
     1
    ]
   },
   "outputs": [
    {
     "data": {
      "text/plain": [
       "0     0\n",
       "1     1\n",
       "2     4\n",
       "3     9\n",
       "4    16\n",
       "5    25\n",
       "6    36\n",
       "7    49\n",
       "8    64\n",
       "9    81\n",
       "dtype: int64"
      ]
     },
     "execution_count": 13,
     "metadata": {},
     "output_type": "execute_result"
    }
   ],
   "source": [
    "# com funções comuns\n",
    "def quadrado(numero):\n",
    "    return numero ** 2\n",
    "\n",
    "\n",
    "foo = pd.Series(data = [_ for _ in range(10)])\n",
    "foo.apply(quadrado)"
   ]
  },
  {
   "cell_type": "markdown",
   "id": "d289513c",
   "metadata": {
    "heading_collapsed": true
   },
   "source": [
    "### 🐍 Series.map()"
   ]
  },
  {
   "cell_type": "markdown",
   "id": "9a1ec6d7",
   "metadata": {
    "hidden": true
   },
   "source": [
    "por estudar"
   ]
  }
 ],
 "metadata": {
  "kernelspec": {
   "display_name": "Python 3 (ipykernel)",
   "language": "python",
   "name": "python3"
  },
  "language_info": {
   "codemirror_mode": {
    "name": "ipython",
    "version": 3
   },
   "file_extension": ".py",
   "mimetype": "text/x-python",
   "name": "python",
   "nbconvert_exporter": "python",
   "pygments_lexer": "ipython3",
   "version": "3.8.10"
  },
  "varInspector": {
   "cols": {
    "lenName": 16,
    "lenType": 16,
    "lenVar": 40
   },
   "kernels_config": {
    "python": {
     "delete_cmd_postfix": "",
     "delete_cmd_prefix": "del ",
     "library": "var_list.py",
     "varRefreshCmd": "print(var_dic_list())"
    },
    "r": {
     "delete_cmd_postfix": ") ",
     "delete_cmd_prefix": "rm(",
     "library": "var_list.r",
     "varRefreshCmd": "cat(var_dic_list()) "
    }
   },
   "types_to_exclude": [
    "module",
    "function",
    "builtin_function_or_method",
    "instance",
    "_Feature"
   ],
   "window_display": false
  }
 },
 "nbformat": 4,
 "nbformat_minor": 5
}
