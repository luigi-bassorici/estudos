{
 "cells": [
  {
   "cell_type": "code",
   "execution_count": 1,
   "id": "eb4b3c82",
   "metadata": {
    "ExecuteTime": {
     "end_time": "2022-10-14T00:39:11.384982Z",
     "start_time": "2022-10-14T00:39:11.059575Z"
    },
    "code_folding": [
     0
    ]
   },
   "outputs": [],
   "source": [
    "# 🥚 🐣 🐔 🍗 imports\n",
    "import pandas as pd\n",
    "import numpy as np\n",
    "import random as rd\n",
    "\n",
    "# Series para exemplo\n",
    "Series = pd.Series(data = (i for i in 'abcbacbdabeeddbababaddd'), dtype = 'str')"
   ]
  },
  {
   "cell_type": "markdown",
   "id": "859c494b",
   "metadata": {
    "tags": []
   },
   "source": [
    "# 🥚Series.métodos"
   ]
  },
  {
   "cell_type": "markdown",
   "id": "e9adac28",
   "metadata": {
    "jp-MarkdownHeadingCollapsed": true,
    "tags": []
   },
   "source": [
    "## 🐣 .value_ counts()"
   ]
  },
  {
   "cell_type": "markdown",
   "id": "0d839a40",
   "metadata": {},
   "source": [
    "***Tem tudo a ver com distribuição de frequências***\n",
    "\n",
    "por padrão me retorna a ***frequência absoluta*** \n",
    "\n",
    "mas pode me devolver a ***frequência relativa*** com normalize..."
   ]
  },
  {
   "cell_type": "markdown",
   "id": "d5da0737",
   "metadata": {},
   "source": [
    "conta \"quantos de cada\" tem naquela série, e passa \"cada tipo\" como indicie label do valor correspondente, ou seja, se eu tenho uma serie cheia de coisas\n",
    "ele vai me devolver quanta vezes cada coisa se repete dentro daquela Series, se não se repete portanto o valor será 1.\n",
    "\n",
    "é importante destacar a importancia de cada parâmetro, pois dão diferentes usos a esse método"
   ]
  },
  {
   "cell_type": "markdown",
   "id": "4c99f7d8",
   "metadata": {
    "heading_collapsed": true
   },
   "source": [
    "###  🐔 dropna"
   ]
  },
  {
   "cell_type": "markdown",
   "id": "d44419f1",
   "metadata": {
    "hidden": true
   },
   "source": [
    "default -> True\n",
    "\n",
    "when True:\n",
    "    - ingora a \"categoria\" NaN sendo assim não aparecem no final\n",
    "    \n",
    "when False:\n",
    "    - NaN aparece na Series final como sendo um valor equivlente aos outros"
   ]
  },
  {
   "cell_type": "markdown",
   "id": "bf32c7e9",
   "metadata": {
    "heading_collapsed": true,
    "hidden": true
   },
   "source": [
    "####  🍗 tests"
   ]
  },
  {
   "cell_type": "code",
   "execution_count": 34,
   "id": "692e7bcc",
   "metadata": {
    "ExecuteTime": {
     "end_time": "2022-10-13T19:51:23.511502Z",
     "start_time": "2022-10-13T19:51:23.505089Z"
    },
    "code_folding": [
     0
    ],
    "collapsed": true,
    "hidden": true,
    "jupyter": {
     "outputs_hidden": true
    }
   },
   "outputs": [
    {
     "data": {
      "text/plain": [
       "0      NaN\n",
       "1     12.0\n",
       "2     13.0\n",
       "3     10.0\n",
       "4      NaN\n",
       "5     11.0\n",
       "6      NaN\n",
       "7     13.0\n",
       "8     12.0\n",
       "9     11.0\n",
       "10     NaN\n",
       "11    11.0\n",
       "dtype: float64"
      ]
     },
     "execution_count": 34,
     "metadata": {},
     "output_type": "execute_result"
    }
   ],
   "source": [
    "valores = (\n",
    "    np.NaN,\n",
    "    12,\n",
    "    13,\n",
    "    10,\n",
    "    np.NaN,\n",
    "    11,\n",
    "    np.NaN,\n",
    "    13,\n",
    "    12,\n",
    "    11,\n",
    "    np.NaN,\n",
    "    11,\n",
    ")\n",
    "serie = pd.Series(data = valores)\n",
    "serie"
   ]
  },
  {
   "cell_type": "code",
   "execution_count": 35,
   "id": "293e6383",
   "metadata": {
    "ExecuteTime": {
     "end_time": "2022-10-13T19:51:28.538739Z",
     "start_time": "2022-10-13T19:51:28.533342Z"
    },
    "collapsed": true,
    "hidden": true,
    "jupyter": {
     "outputs_hidden": true
    }
   },
   "outputs": [
    {
     "data": {
      "text/plain": [
       "11.0    3\n",
       "12.0    2\n",
       "13.0    2\n",
       "10.0    1\n",
       "dtype: int64"
      ]
     },
     "execution_count": 35,
     "metadata": {},
     "output_type": "execute_result"
    }
   ],
   "source": [
    "serie.value_counts()"
   ]
  },
  {
   "cell_type": "code",
   "execution_count": 36,
   "id": "297fb511",
   "metadata": {
    "ExecuteTime": {
     "end_time": "2022-10-13T19:51:29.511812Z",
     "start_time": "2022-10-13T19:51:29.504918Z"
    },
    "collapsed": true,
    "hidden": true,
    "jupyter": {
     "outputs_hidden": true
    }
   },
   "outputs": [
    {
     "data": {
      "text/plain": [
       "NaN     4\n",
       "11.0    3\n",
       "12.0    2\n",
       "13.0    2\n",
       "10.0    1\n",
       "dtype: int64"
      ]
     },
     "execution_count": 36,
     "metadata": {},
     "output_type": "execute_result"
    }
   ],
   "source": [
    "serie.value_counts(dropna = False)"
   ]
  },
  {
   "cell_type": "markdown",
   "id": "e540512f",
   "metadata": {
    "heading_collapsed": true
   },
   "source": [
    "###  🐔 sort"
   ]
  },
  {
   "cell_type": "markdown",
   "id": "290d6517",
   "metadata": {
    "hidden": true
   },
   "source": [
    "default -> True\n",
    "\n",
    "when True:\n",
    "    - organiza os valores de acordo com o quanto se repetem, sendo o mais repetido na primeira posição\n",
    "    \n",
    "when False:\n",
    "    - deixa os vlaores organizados pela ordem que eles aparecem"
   ]
  },
  {
   "cell_type": "code",
   "execution_count": 51,
   "id": "ad2714e1",
   "metadata": {
    "ExecuteTime": {
     "end_time": "2022-10-13T20:31:37.942124Z",
     "start_time": "2022-10-13T20:31:37.926803Z"
    },
    "code_folding": [],
    "collapsed": true,
    "hidden": true,
    "jupyter": {
     "outputs_hidden": true
    }
   },
   "outputs": [
    {
     "data": {
      "text/plain": [
       "b    7\n",
       "a    6\n",
       "d    6\n",
       "c    2\n",
       "e    2\n",
       "dtype: int64"
      ]
     },
     "execution_count": 51,
     "metadata": {},
     "output_type": "execute_result"
    }
   ],
   "source": [
    "Series.value_counts()"
   ]
  },
  {
   "cell_type": "code",
   "execution_count": 52,
   "id": "b6fd3e7f",
   "metadata": {
    "ExecuteTime": {
     "end_time": "2022-10-13T20:10:10.930432Z",
     "start_time": "2022-10-13T20:10:10.924433Z"
    },
    "collapsed": true,
    "hidden": true,
    "jupyter": {
     "outputs_hidden": true
    }
   },
   "outputs": [
    {
     "data": {
      "text/plain": [
       "a    6\n",
       "b    7\n",
       "c    2\n",
       "d    6\n",
       "e    2\n",
       "dtype: int64"
      ]
     },
     "execution_count": 52,
     "metadata": {},
     "output_type": "execute_result"
    }
   ],
   "source": [
    "Series.value_counts(sort = False)"
   ]
  },
  {
   "cell_type": "markdown",
   "id": "0282437a",
   "metadata": {
    "heading_collapsed": true
   },
   "source": [
    "###  🐔 ascending"
   ]
  },
  {
   "cell_type": "markdown",
   "id": "6235c1f9",
   "metadata": {
    "hidden": true
   },
   "source": [
    "esse parâmetro é subordinado ao **sort** , já que el significa a orientação da organização do sort"
   ]
  },
  {
   "cell_type": "markdown",
   "id": "9b5cc0db",
   "metadata": {
    "hidden": true
   },
   "source": [
    "default -> False\n",
    "\n",
    "when True:\n",
    "    - inverte a ordem do sort, ele \"ascender\"significa começar do menor e ir aumentando\n",
    "    \n",
    "when False:\n",
    "    - mantêm a ordem do sort"
   ]
  },
  {
   "cell_type": "code",
   "execution_count": 46,
   "id": "c1f99046",
   "metadata": {
    "ExecuteTime": {
     "end_time": "2022-10-13T20:05:16.663154Z",
     "start_time": "2022-10-13T20:05:16.657114Z"
    },
    "collapsed": true,
    "hidden": true,
    "jupyter": {
     "outputs_hidden": true
    }
   },
   "outputs": [
    {
     "data": {
      "text/plain": [
       "b    7\n",
       "a    6\n",
       "d    6\n",
       "c    2\n",
       "e    2\n",
       "dtype: int64"
      ]
     },
     "execution_count": 46,
     "metadata": {},
     "output_type": "execute_result"
    }
   ],
   "source": [
    "Series.value_counts()"
   ]
  },
  {
   "cell_type": "code",
   "execution_count": 47,
   "id": "2e9e2590",
   "metadata": {
    "ExecuteTime": {
     "end_time": "2022-10-13T20:05:16.663154Z",
     "start_time": "2022-10-13T20:05:16.657114Z"
    },
    "collapsed": true,
    "hidden": true,
    "jupyter": {
     "outputs_hidden": true
    }
   },
   "outputs": [
    {
     "data": {
      "text/plain": [
       "c    2\n",
       "e    2\n",
       "a    6\n",
       "d    6\n",
       "b    7\n",
       "dtype: int64"
      ]
     },
     "execution_count": 47,
     "metadata": {},
     "output_type": "execute_result"
    }
   ],
   "source": [
    "Series.value_counts(ascending = True)"
   ]
  },
  {
   "cell_type": "markdown",
   "id": "2649cabb",
   "metadata": {
    "heading_collapsed": true
   },
   "source": [
    "###  🐔 bins"
   ]
  },
  {
   "cell_type": "markdown",
   "id": "f5b429a5",
   "metadata": {
    "hidden": true
   },
   "source": [
    "**somente para Series com tipos numéricos!**\n",
    "\n",
    "separa o range total em grupos exatamente simétricos, e devolve a informação de quantos dos valores pertencem ao n grupo"
   ]
  },
  {
   "cell_type": "markdown",
   "id": "3cbd72a8",
   "metadata": {
    "hidden": true
   },
   "source": [
    "default -> None\n",
    "\n",
    "when any integer :\n",
    "    - cria n grupos dentro da amplitude da Series e me diz quantos valores estão dentro desses grupos, leia o exemplo..."
   ]
  },
  {
   "cell_type": "markdown",
   "id": "003ba8fc",
   "metadata": {
    "hidden": true
   },
   "source": [
    "**Exemplo**\n",
    "\n",
    "\n",
    "Tenho uma Series de 100 valores referentes á idade de 100 pessoas. A menor idade é 1 ano e a maior é 80 anos.\n",
    "\n",
    "\n",
    "se eu passar bins = 4 ele vai criar 4 grupos dentro do range total, ou seja...\n",
    "\n",
    "grupo 1 : pessoas de **1 á 20** anos\n",
    "\n",
    "grupo 2 : pessoas de **21 á 40** anos\n",
    "\n",
    "grupo 3 : pessoas de **41 á 60** anos\n",
    "\n",
    "grupo 4 : pessoasde **61 á 80** anos\n",
    "\n",
    "feito isso o parâmetro irá me retornar quantas pessoas tem em cada grupo ex.:\n",
    "\n",
    "grupo 1 : **25**\n",
    "\n",
    "grupo 2 : **55**\n",
    "\n",
    "grupo 3 : **12**\n",
    "\n",
    "grupo 4 : **8**"
   ]
  },
  {
   "cell_type": "code",
   "execution_count": 4,
   "id": "5c061c57",
   "metadata": {
    "ExecuteTime": {
     "end_time": "2022-10-14T00:39:30.282399Z",
     "start_time": "2022-10-14T00:39:30.277322Z"
    },
    "code_folding": [],
    "collapsed": true,
    "hidden": true,
    "jupyter": {
     "outputs_hidden": true
    }
   },
   "outputs": [
    {
     "name": "stdout",
     "output_type": "stream",
     "text": [
      "2\n",
      "80\n"
     ]
    }
   ],
   "source": [
    "# 10 números inteiros aleatórios (entre 1 e 80 )\n",
    "serieEspecial = pd.Series([rd.randint(1, 80) for i in range(100)])\n",
    "\n",
    "print(serieEspecial.min())\n",
    "print(serieEspecial.max())"
   ]
  },
  {
   "cell_type": "code",
   "execution_count": 3,
   "id": "df7ddda4",
   "metadata": {
    "ExecuteTime": {
     "end_time": "2022-10-14T00:39:21.545157Z",
     "start_time": "2022-10-14T00:39:21.513738Z"
    },
    "collapsed": true,
    "hidden": true,
    "jupyter": {
     "outputs_hidden": true
    }
   },
   "outputs": [
    {
     "data": {
      "text/plain": [
       "(9.931000000000001, 44.0]    46\n",
       "(44.0, 78.0]                 54\n",
       "dtype: int64"
      ]
     },
     "execution_count": 3,
     "metadata": {},
     "output_type": "execute_result"
    }
   ],
   "source": [
    "serieEspecial.value_counts(bins = 2, sort = False)"
   ]
  },
  {
   "cell_type": "code",
   "execution_count": 86,
   "id": "94c4b126",
   "metadata": {
    "ExecuteTime": {
     "end_time": "2022-10-13T20:32:35.660197Z",
     "start_time": "2022-10-13T20:32:35.647619Z"
    },
    "collapsed": true,
    "hidden": true,
    "jupyter": {
     "outputs_hidden": true
    }
   },
   "outputs": [
    {
     "data": {
      "text/plain": [
       "(0.92, 20.75]    23\n",
       "(20.75, 40.5]    21\n",
       "(40.5, 60.25]    26\n",
       "(60.25, 80.0]    30\n",
       "dtype: int64"
      ]
     },
     "execution_count": 86,
     "metadata": {},
     "output_type": "execute_result"
    }
   ],
   "source": [
    "serieEspecial.value_counts(bins = 4, sort = False)"
   ]
  },
  {
   "cell_type": "code",
   "execution_count": 87,
   "id": "04e6aead",
   "metadata": {
    "ExecuteTime": {
     "end_time": "2022-10-13T20:32:38.296283Z",
     "start_time": "2022-10-13T20:32:38.284088Z"
    },
    "collapsed": true,
    "hidden": true,
    "jupyter": {
     "outputs_hidden": true
    }
   },
   "outputs": [
    {
     "data": {
      "text/plain": [
       "(0.92, 14.167]      16\n",
       "(14.167, 27.333]    11\n",
       "(27.333, 40.5]      17\n",
       "(40.5, 53.667]      14\n",
       "(53.667, 66.833]    23\n",
       "(66.833, 80.0]      19\n",
       "dtype: int64"
      ]
     },
     "execution_count": 87,
     "metadata": {},
     "output_type": "execute_result"
    }
   ],
   "source": [
    "serieEspecial.value_counts(bins = 6, sort = False)"
   ]
  },
  {
   "cell_type": "markdown",
   "id": "4d6dba80",
   "metadata": {
    "heading_collapsed": true
   },
   "source": [
    "###  🐔 normalize   -> frequência relativa"
   ]
  },
  {
   "cell_type": "markdown",
   "id": "7aff1d35",
   "metadata": {
    "hidden": true
   },
   "source": [
    "default -> False\n",
    "\n",
    "when True:\n",
    "    - retorna a porcentagem com que cada valor se repetiu em relação ao total de valores\n",
    "    \n",
    "when False:\n",
    "    - "
   ]
  },
  {
   "cell_type": "code",
   "execution_count": 95,
   "id": "1d92c6b8",
   "metadata": {
    "ExecuteTime": {
     "end_time": "2022-10-13T20:56:56.702085Z",
     "start_time": "2022-10-13T20:56:56.694865Z"
    },
    "collapsed": true,
    "hidden": true,
    "jupyter": {
     "outputs_hidden": true
    }
   },
   "outputs": [
    {
     "data": {
      "text/plain": [
       "b    7\n",
       "a    6\n",
       "d    6\n",
       "c    2\n",
       "e    2\n",
       "dtype: int64"
      ]
     },
     "execution_count": 95,
     "metadata": {},
     "output_type": "execute_result"
    }
   ],
   "source": [
    "Series.value_counts()"
   ]
  },
  {
   "cell_type": "code",
   "execution_count": 96,
   "id": "aacf1151",
   "metadata": {
    "ExecuteTime": {
     "end_time": "2022-10-13T20:56:57.397220Z",
     "start_time": "2022-10-13T20:56:57.389601Z"
    },
    "collapsed": true,
    "hidden": true,
    "jupyter": {
     "outputs_hidden": true
    }
   },
   "outputs": [
    {
     "data": {
      "text/plain": [
       "b    0.304348\n",
       "a    0.260870\n",
       "d    0.260870\n",
       "c    0.086957\n",
       "e    0.086957\n",
       "dtype: float64"
      ]
     },
     "execution_count": 96,
     "metadata": {},
     "output_type": "execute_result"
    }
   ],
   "source": [
    "Series.value_counts(normalize = True)"
   ]
  },
  {
   "cell_type": "markdown",
   "id": "91070c81",
   "metadata": {
    "hidden": true
   },
   "source": [
    "repare que essa porcentagem vem em decimais se eu multiplicar pelo size() ela irá representar quantas vezes apareceu, ou seja é a porcentagem na forma usual...\n",
    "\n",
    "\n",
    "porém se for para representações visuais eu posso usar * 100 no final e depois tratar como string ou algo assim\n",
    "\n",
    "note que algo que representa 0.6: 1 , irá passar a ser 60: 100"
   ]
  },
  {
   "cell_type": "code",
   "execution_count": 97,
   "id": "a740a0e8",
   "metadata": {
    "ExecuteTime": {
     "end_time": "2022-10-13T20:56:58.041217Z",
     "start_time": "2022-10-13T20:56:58.033970Z"
    },
    "collapsed": true,
    "hidden": true,
    "jupyter": {
     "outputs_hidden": true
    }
   },
   "outputs": [
    {
     "data": {
      "text/plain": [
       "b    30.434783\n",
       "a    26.086957\n",
       "d    26.086957\n",
       "c     8.695652\n",
       "e     8.695652\n",
       "dtype: float64"
      ]
     },
     "execution_count": 97,
     "metadata": {},
     "output_type": "execute_result"
    }
   ],
   "source": [
    "Series.value_counts(normalize = True) * 100"
   ]
  }
 ],
 "metadata": {
  "kernelspec": {
   "display_name": "Python 3 (ipykernel)",
   "language": "python",
   "name": "python3"
  },
  "language_info": {
   "codemirror_mode": {
    "name": "ipython",
    "version": 3
   },
   "file_extension": ".py",
   "mimetype": "text/x-python",
   "name": "python",
   "nbconvert_exporter": "python",
   "pygments_lexer": "ipython3",
   "version": "3.8.10"
  },
  "varInspector": {
   "cols": {
    "lenName": 16,
    "lenType": 16,
    "lenVar": 40
   },
   "kernels_config": {
    "python": {
     "delete_cmd_postfix": "",
     "delete_cmd_prefix": "del ",
     "library": "var_list.py",
     "varRefreshCmd": "print(var_dic_list())"
    },
    "r": {
     "delete_cmd_postfix": ") ",
     "delete_cmd_prefix": "rm(",
     "library": "var_list.r",
     "varRefreshCmd": "cat(var_dic_list()) "
    }
   },
   "types_to_exclude": [
    "module",
    "function",
    "builtin_function_or_method",
    "instance",
    "_Feature"
   ],
   "window_display": false
  }
 },
 "nbformat": 4,
 "nbformat_minor": 5
}
