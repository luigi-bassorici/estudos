{
 "cells": [
  {
   "cell_type": "code",
   "execution_count": 1,
   "id": "80beeff7",
   "metadata": {
    "ExecuteTime": {
     "end_time": "2022-10-11T23:27:14.030430Z",
     "start_time": "2022-10-11T23:27:13.826038Z"
    },
    "code_folding": [
     0
    ]
   },
   "outputs": [],
   "source": [
    "# imports\n",
    "import numpy as np\n",
    "import pandas as pd\n",
    "import random as rd"
   ]
  },
  {
   "cell_type": "markdown",
   "id": "652eb331",
   "metadata": {},
   "source": [
    "[baby names](https://www.youtube.com/watch?v=xOE75sLg8hM&list=PL9oKUrtC4VP7ry0um1QOUUfJBXKnkf-dA&index=11)\n",
    "\n",
    "\n",
    "Um casal terá um bebê, eles fizeram uma lista com seus 6 nomes preferidos e decidiram deixar que a internet dê o nome do bebê. portanto essa é a lista de qual nome os influenciadores preferidos do casal sugeriu...\n",
    "\n",
    "o seu trabalho é contar quantas pessoas escolheram os nomes (marco, luiz ou gustavo)"
   ]
  },
  {
   "cell_type": "code",
   "execution_count": 2,
   "id": "d36e711c",
   "metadata": {
    "ExecuteTime": {
     "end_time": "2022-10-11T23:27:16.286195Z",
     "start_time": "2022-10-11T23:27:16.278414Z"
    },
    "code_folding": [
     0
    ]
   },
   "outputs": [],
   "source": [
    "# vou simular a lista das 6 possibilidades e gerar uma lista com 30 \"votos\"\n",
    "\n",
    "possibilidades = ('Luigi', 'Julio', 'Augusto', 'Giovani', 'Cesar', 'Falcão')\n",
    "\n",
    "lista_de_votos = [possibilidades[rd.randint(0, 5)] for _ in range(30)]\n",
    "\n",
    "serie = pd.Series(data = lista_de_votos)"
   ]
  },
  {
   "cell_type": "code",
   "execution_count": 4,
   "id": "e7db0852",
   "metadata": {
    "ExecuteTime": {
     "end_time": "2022-10-11T23:27:50.407571Z",
     "start_time": "2022-10-11T23:27:50.399467Z"
    },
    "code_folding": [
     0
    ]
   },
   "outputs": [
    {
     "name": "stdout",
     "output_type": "stream",
     "text": [
      "votos para Falcão: 6\n",
      "votos para Augusto: 1\n",
      "votos para Luigi: 6\n"
     ]
    }
   ],
   "source": [
    "# metodo rudimentar para contar quantas vezes \"Falcão\", \"Augusto\" e \"Luigi\" aparece na lista\n",
    "_ = serie == 'Falcão'\n",
    "Falcão = len(_[_])\n",
    "\n",
    "_ = serie == \"Augusto\"\n",
    "Augusto = len(_[_])\n",
    "\n",
    "_ = serie == \"Luigi\"\n",
    "Luigi = len(_[_])\n",
    "\n",
    "print('votos para Falcão:', Falcão)\n",
    "print('votos para Augusto:' , Augusto)\n",
    "print('votos para Luigi:', Luigi)"
   ]
  },
  {
   "cell_type": "markdown",
   "id": "11a8e98f",
   "metadata": {},
   "source": [
    "a solução do gorm foi usar um metodo chamado Series.value_counts() e e mseguida passar isso como parametro para somente os index labels dos nomes que ele queria, no meu caso seria assim..."
   ]
  },
  {
   "cell_type": "code",
   "execution_count": 5,
   "id": "c923c00a",
   "metadata": {
    "ExecuteTime": {
     "end_time": "2022-10-11T23:28:25.202830Z",
     "start_time": "2022-10-11T23:28:25.193271Z"
    },
    "code_folding": [
     0
    ]
   },
   "outputs": [
    {
     "data": {
      "text/plain": [
       "Falcão     6\n",
       "Augusto    1\n",
       "Luigi      6\n",
       "dtype: int64"
      ]
     },
     "execution_count": 5,
     "metadata": {},
     "output_type": "execute_result"
    }
   ],
   "source": [
    "# solução\n",
    "serie.value_counts().loc[['Falcão', 'Augusto', 'Luigi']]"
   ]
  },
  {
   "cell_type": "markdown",
   "id": "000c67fc",
   "metadata": {},
   "source": [
    "repare que se eu quiser saber quantas vezes cada valor aparece (para todos) bastaria usar value_counts()"
   ]
  },
  {
   "cell_type": "markdown",
   "id": "4c8f0429",
   "metadata": {},
   "source": [
    "a minha interpretação do método value_counts() será posta no notebook Creations..."
   ]
  }
 ],
 "metadata": {
  "kernelspec": {
   "display_name": "Python 3 (ipykernel)",
   "language": "python",
   "name": "python3"
  },
  "language_info": {
   "codemirror_mode": {
    "name": "ipython",
    "version": 3
   },
   "file_extension": ".py",
   "mimetype": "text/x-python",
   "name": "python",
   "nbconvert_exporter": "python",
   "pygments_lexer": "ipython3",
   "version": "3.8.10"
  },
  "varInspector": {
   "cols": {
    "lenName": 16,
    "lenType": 16,
    "lenVar": 40
   },
   "kernels_config": {
    "python": {
     "delete_cmd_postfix": "",
     "delete_cmd_prefix": "del ",
     "library": "var_list.py",
     "varRefreshCmd": "print(var_dic_list())"
    },
    "r": {
     "delete_cmd_postfix": ") ",
     "delete_cmd_prefix": "rm(",
     "library": "var_list.r",
     "varRefreshCmd": "cat(var_dic_list()) "
    }
   },
   "types_to_exclude": [
    "module",
    "function",
    "builtin_function_or_method",
    "instance",
    "_Feature"
   ],
   "window_display": false
  }
 },
 "nbformat": 4,
 "nbformat_minor": 5
}
