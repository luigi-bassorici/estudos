{
 "cells": [
  {
   "cell_type": "markdown",
   "id": "94453532",
   "metadata": {},
   "source": [
    "Você está organizando uma gincana, 6 treinadores e 20 jogadores se inscreveram.\n",
    "\n",
    "Seu trabalho é determinar de forma aleatória e justa as equipes, designando jogadores para treinadores, Saiba que as equipes terão números de jogadores diferentes.\n",
    "\n",
    "Dada uma Série de treinadores *coachs* e uma Série de jogadores *players*, crie uma Série de \"mapeamentos aleatórios de treinador para jogador\".\n",
    "\n",
    "A Série resultante deve ter nomes de **treinadores** em seu **índice** e nomes de **jogadores** correspondentes em seus **valores**."
   ]
  },
  {
   "cell_type": "code",
   "execution_count": 25,
   "id": "4fb602b9",
   "metadata": {
    "ExecuteTime": {
     "end_time": "2022-11-07T20:09:58.853780Z",
     "start_time": "2022-11-07T20:09:58.850144Z"
    }
   },
   "outputs": [],
   "source": [
    "import pandas as pd\n",
    "import numpy as np\n",
    "import random as rd"
   ]
  },
  {
   "cell_type": "code",
   "execution_count": 19,
   "id": "46fd64b2",
   "metadata": {
    "ExecuteTime": {
     "end_time": "2022-11-07T19:56:16.035398Z",
     "start_time": "2022-11-07T19:56:16.026032Z"
    }
   },
   "outputs": [],
   "source": [
    "coachs = pd.Series(data = ['Mark', 'Vincent', 'Williams', 'Alvin', 'James', 'Daniel'])\n",
    "\n",
    "players = pd.Series(data = [i for i in range(20)]) # para poupar tempo os alunos serão números"
   ]
  },
  {
   "cell_type": "code",
   "execution_count": 22,
   "id": "73224ccf",
   "metadata": {
    "ExecuteTime": {
     "end_time": "2022-11-07T20:07:08.950431Z",
     "start_time": "2022-11-07T20:07:08.940777Z"
    }
   },
   "outputs": [
    {
     "data": {
      "text/plain": [
       "0       Mark\n",
       "1    Vincent\n",
       "2       Will\n",
       "3      Alvin\n",
       "4      James\n",
       "5     Daniel\n",
       "dtype: object"
      ]
     },
     "execution_count": 22,
     "metadata": {},
     "output_type": "execute_result"
    }
   ],
   "source": [
    "coachs"
   ]
  },
  {
   "cell_type": "code",
   "execution_count": 23,
   "id": "69124bba",
   "metadata": {
    "ExecuteTime": {
     "end_time": "2022-11-07T20:07:13.157437Z",
     "start_time": "2022-11-07T20:07:13.142167Z"
    },
    "collapsed": true
   },
   "outputs": [
    {
     "data": {
      "text/plain": [
       "0      0\n",
       "1      1\n",
       "2      2\n",
       "3      3\n",
       "4      4\n",
       "5      5\n",
       "6      6\n",
       "7      7\n",
       "8      8\n",
       "9      9\n",
       "10    10\n",
       "11    11\n",
       "12    12\n",
       "13    13\n",
       "14    14\n",
       "15    15\n",
       "16    16\n",
       "17    17\n",
       "18    18\n",
       "19    19\n",
       "dtype: int64"
      ]
     },
     "execution_count": 23,
     "metadata": {},
     "output_type": "execute_result"
    }
   ],
   "source": [
    "players"
   ]
  },
  {
   "cell_type": "code",
   "execution_count": 39,
   "id": "a84fd440",
   "metadata": {
    "ExecuteTime": {
     "end_time": "2022-11-07T20:33:08.300928Z",
     "start_time": "2022-11-07T20:33:08.294205Z"
    }
   },
   "outputs": [
    {
     "data": {
      "text/plain": [
       "[3, 4, 5, 1, 0, 2]"
      ]
     },
     "execution_count": 39,
     "metadata": {},
     "output_type": "execute_result"
    }
   ],
   "source": [
    "coachsfoo"
   ]
  }
 ],
 "metadata": {
  "kernelspec": {
   "display_name": "Python 3 (ipykernel)",
   "language": "python",
   "name": "python3"
  },
  "language_info": {
   "codemirror_mode": {
    "name": "ipython",
    "version": 3
   },
   "file_extension": ".py",
   "mimetype": "text/x-python",
   "name": "python",
   "nbconvert_exporter": "python",
   "pygments_lexer": "ipython3",
   "version": "3.10.6"
  },
  "varInspector": {
   "cols": {
    "lenName": 16,
    "lenType": 16,
    "lenVar": 40
   },
   "kernels_config": {
    "python": {
     "delete_cmd_postfix": "",
     "delete_cmd_prefix": "del ",
     "library": "var_list.py",
     "varRefreshCmd": "print(var_dic_list())"
    },
    "r": {
     "delete_cmd_postfix": ") ",
     "delete_cmd_prefix": "rm(",
     "library": "var_list.r",
     "varRefreshCmd": "cat(var_dic_list()) "
    }
   },
   "types_to_exclude": [
    "module",
    "function",
    "builtin_function_or_method",
    "instance",
    "_Feature"
   ],
   "window_display": false
  }
 },
 "nbformat": 4,
 "nbformat_minor": 5
}
