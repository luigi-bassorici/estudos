{
 "cells": [
  {
   "cell_type": "markdown",
   "id": "9c93ed7d",
   "metadata": {},
   "source": [
    "Durante o mês de outubro alguém catalogou os preços do de acordo com o \"indicador de preço de mercado internacinal\", para analisar a variação do preço do minerio durante este mês e buscar correlações com acontecimentos políticos."
   ]
  },
  {
   "cell_type": "markdown",
   "id": "0b318168",
   "metadata": {},
   "source": [
    "Você irá receber uma Series cujo valor representa o valor do ouro médio em tal dia <98.54>, o dia é referenciado no proprio index <15>.\n",
    "\n",
    "você deve entregar o dia em que ouve a **maior variação positiva** em relação ao dia anterior, ou seja \"em que dia o valor do ouro aumentou mais em relação ao dia anterior\"."
   ]
  },
  {
   "cell_type": "code",
   "execution_count": 10,
   "id": "05105ef2",
   "metadata": {
    "ExecuteTime": {
     "end_time": "2022-11-01T20:13:23.490579Z",
     "start_time": "2022-11-01T20:13:23.484972Z"
    }
   },
   "outputs": [],
   "source": [
    "import pandas as pd\n",
    "import numpy as np"
   ]
  },
  {
   "cell_type": "code",
   "execution_count": 76,
   "id": "5ae8cbf6",
   "metadata": {
    "ExecuteTime": {
     "end_time": "2022-11-01T20:47:58.916416Z",
     "start_time": "2022-11-01T20:47:58.910939Z"
    },
    "code_folding": []
   },
   "outputs": [],
   "source": [
    "# Setup Series\n",
    "generator = np.random.default_rng(123)\n",
    "\n",
    "gold_october = pd.Series(data= np.round(generator.uniform(low= 89, high=100, size= 30),  2), index= generator.choice(30, size = 30, replace = False))"
   ]
  },
  {
   "cell_type": "code",
   "execution_count": 77,
   "id": "406a8071",
   "metadata": {
    "ExecuteTime": {
     "end_time": "2022-11-01T20:48:00.027716Z",
     "start_time": "2022-11-01T20:48:00.016638Z"
    },
    "collapsed": true
   },
   "outputs": [
    {
     "data": {
      "text/plain": [
       "1     96.51\n",
       "21    89.59\n",
       "26    91.42\n",
       "22    91.03\n",
       "13    90.93\n",
       "28    97.93\n",
       "7     99.16\n",
       "3     92.04\n",
       "17    98.02\n",
       "12    98.79\n",
       "6     94.64\n",
       "24    91.69\n",
       "20    98.07\n",
       "23    91.35\n",
       "29    97.16\n",
       "16    95.93\n",
       "4     99.20\n",
       "2     91.55\n",
       "15    97.79\n",
       "9     94.70\n",
       "14    91.55\n",
       "10    90.82\n",
       "27    94.48\n",
       "25    95.41\n",
       "18    91.03\n",
       "0     89.16\n",
       "11    94.18\n",
       "8     97.01\n",
       "19    99.10\n",
       "5     95.88\n",
       "dtype: float64"
      ]
     },
     "execution_count": 77,
     "metadata": {},
     "output_type": "execute_result"
    }
   ],
   "source": [
    "gold_october"
   ]
  },
  {
   "cell_type": "markdown",
   "id": "dba65210",
   "metadata": {},
   "source": [
    "vou organizar a Series deacordo com o index"
   ]
  },
  {
   "cell_type": "code",
   "execution_count": 78,
   "id": "b77edb66",
   "metadata": {
    "ExecuteTime": {
     "end_time": "2022-11-01T20:48:08.098969Z",
     "start_time": "2022-11-01T20:48:08.090143Z"
    }
   },
   "outputs": [],
   "source": [
    "f.sort_index(inplace = True)"
   ]
  },
  {
   "cell_type": "code",
   "execution_count": 38,
   "id": "9cf7727d",
   "metadata": {
    "ExecuteTime": {
     "end_time": "2022-11-01T20:21:29.412061Z",
     "start_time": "2022-11-01T20:21:29.404572Z"
    },
    "collapsed": true
   },
   "outputs": [
    {
     "data": {
      "text/plain": [
       "0     89.16\n",
       "1     96.51\n",
       "2     91.55\n",
       "3     92.04\n",
       "4     99.20\n",
       "5     95.88\n",
       "6     94.64\n",
       "7     99.16\n",
       "8     97.01\n",
       "9     94.70\n",
       "10    90.82\n",
       "11    94.18\n",
       "12    98.79\n",
       "13    90.93\n",
       "14    91.55\n",
       "15    97.79\n",
       "16    95.93\n",
       "17    98.02\n",
       "18    91.03\n",
       "19    99.10\n",
       "20    98.07\n",
       "21    89.59\n",
       "22    91.03\n",
       "23    91.35\n",
       "24    91.69\n",
       "25    95.41\n",
       "26    91.42\n",
       "27    94.48\n",
       "28    97.93\n",
       "29    97.16\n",
       "dtype: float64"
      ]
     },
     "execution_count": 38,
     "metadata": {},
     "output_type": "execute_result"
    }
   ],
   "source": [
    "gold_october"
   ]
  },
  {
   "cell_type": "markdown",
   "id": "d540833b",
   "metadata": {},
   "source": [
    "vou criar uma deslocar a uma posição dos itens uma casa na $MASK, para quando eu comparar os itens na mesma posição, na verdade estou comparando posições vizinhas."
   ]
  },
  {
   "cell_type": "code",
   "execution_count": 53,
   "id": "80fb78a5",
   "metadata": {
    "ExecuteTime": {
     "end_time": "2022-11-01T20:27:50.245571Z",
     "start_time": "2022-11-01T20:27:50.236748Z"
    },
    "collapsed": true
   },
   "outputs": [
    {
     "data": {
      "text/plain": [
       "0       NaN\n",
       "1     89.16\n",
       "2     96.51\n",
       "3     91.55\n",
       "4     92.04\n",
       "5     99.20\n",
       "6     95.88\n",
       "7     94.64\n",
       "8     99.16\n",
       "9     97.01\n",
       "10    94.70\n",
       "11    90.82\n",
       "12    94.18\n",
       "13    98.79\n",
       "14    90.93\n",
       "15    91.55\n",
       "16    97.79\n",
       "17    95.93\n",
       "18    98.02\n",
       "19    91.03\n",
       "20    99.10\n",
       "21    98.07\n",
       "22    89.59\n",
       "23    91.03\n",
       "24    91.35\n",
       "25    91.69\n",
       "26    95.41\n",
       "27    91.42\n",
       "28    94.48\n",
       "29    97.93\n",
       "dtype: float64"
      ]
     },
     "execution_count": 53,
     "metadata": {},
     "output_type": "execute_result"
    }
   ],
   "source": [
    "mask = gold_october.shift(periods= 1)\n",
    "\n",
    "mask"
   ]
  },
  {
   "cell_type": "markdown",
   "id": "f8f6df48",
   "metadata": {},
   "source": [
    "agora basta comparar para o dia n o dia n-1, a diferença disso será o \"quanto o ouro subiu em relação ao dia anterior\""
   ]
  },
  {
   "cell_type": "code",
   "execution_count": 55,
   "id": "817d9181",
   "metadata": {
    "ExecuteTime": {
     "end_time": "2022-11-01T20:28:31.151903Z",
     "start_time": "2022-11-01T20:28:31.147289Z"
    }
   },
   "outputs": [],
   "source": [
    "diff = gold_october - mask"
   ]
  },
  {
   "cell_type": "markdown",
   "id": "5c27b47b",
   "metadata": {},
   "source": [
    "agora vou organizar pelo valor da diferença (maior -> menor)\n",
    "\n",
    "[0] = maior , [1] = segundo maior ..."
   ]
  },
  {
   "cell_type": "code",
   "execution_count": 74,
   "id": "7d9b71a6",
   "metadata": {
    "ExecuteTime": {
     "end_time": "2022-11-01T20:43:08.705897Z",
     "start_time": "2022-11-01T20:43:08.701350Z"
    }
   },
   "outputs": [],
   "source": [
    "maior_diff = diff.sort_values(ascending = False).iloc[0]"
   ]
  },
  {
   "cell_type": "markdown",
   "id": "dc0526bd",
   "metadata": {
    "heading_collapsed": true
   },
   "source": [
    "# resposta\n",
    "\n",
    "esta é a maior diferença em relação ao dia anterior que encontramos"
   ]
  },
  {
   "cell_type": "code",
   "execution_count": 73,
   "id": "b961aa3b",
   "metadata": {
    "ExecuteTime": {
     "end_time": "2022-11-01T20:42:57.195691Z",
     "start_time": "2022-11-01T20:42:57.189390Z"
    },
    "hidden": true
   },
   "outputs": [
    {
     "data": {
      "text/plain": [
       "7.3500000000000085"
      ]
     },
     "execution_count": 73,
     "metadata": {},
     "output_type": "execute_result"
    }
   ],
   "source": [
    "maior_diff"
   ]
  }
 ],
 "metadata": {
  "kernelspec": {
   "display_name": "Python 3 (ipykernel)",
   "language": "python",
   "name": "python3"
  },
  "language_info": {
   "codemirror_mode": {
    "name": "ipython",
    "version": 3
   },
   "file_extension": ".py",
   "mimetype": "text/x-python",
   "name": "python",
   "nbconvert_exporter": "python",
   "pygments_lexer": "ipython3",
   "version": "3.10.6"
  },
  "varInspector": {
   "cols": {
    "lenName": 16,
    "lenType": 16,
    "lenVar": 40
   },
   "kernels_config": {
    "python": {
     "delete_cmd_postfix": "",
     "delete_cmd_prefix": "del ",
     "library": "var_list.py",
     "varRefreshCmd": "print(var_dic_list())"
    },
    "r": {
     "delete_cmd_postfix": ") ",
     "delete_cmd_prefix": "rm(",
     "library": "var_list.r",
     "varRefreshCmd": "cat(var_dic_list()) "
    }
   },
   "types_to_exclude": [
    "module",
    "function",
    "builtin_function_or_method",
    "instance",
    "_Feature"
   ],
   "window_display": false
  }
 },
 "nbformat": 4,
 "nbformat_minor": 5
}
