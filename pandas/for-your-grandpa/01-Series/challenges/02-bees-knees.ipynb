{
 "cells": [
  {
   "cell_type": "code",
   "execution_count": 1,
   "id": "f84b1c16",
   "metadata": {
    "ExecuteTime": {
     "end_time": "2022-10-12T20:43:08.341851Z",
     "start_time": "2022-10-12T20:43:08.139996Z"
    },
    "code_folding": [
     0
    ]
   },
   "outputs": [],
   "source": [
    "# imports\n",
    "import numpy as np\n",
    "import pandas as pd\n",
    "import random as rd"
   ]
  },
  {
   "cell_type": "markdown",
   "id": "f702d94c",
   "metadata": {},
   "source": [
    "[Bees Knees](https://www.youtube.com/watch?v=o7SMejg_GXk&list=PL9oKUrtC4VP7ry0um1QOUUfJBXKnkf-dA&index=13)\n",
    "\n",
    "tendo duas Series , Bees & Knees, para cada valor NaN em Bees, duplicar o valor correspondente ao mesmo indicie em Knees\n",
    "\n",
    "knees.index = não comum..."
   ]
  },
  {
   "cell_type": "code",
   "execution_count": 89,
   "id": "0e655d48",
   "metadata": {
    "ExecuteTime": {
     "end_time": "2022-10-12T21:21:23.255904Z",
     "start_time": "2022-10-12T21:21:23.249498Z"
    },
    "code_folding": [
     0
    ],
    "collapsed": true
   },
   "outputs": [
    {
     "data": {
      "text/plain": [
       "0     Luigi\n",
       "1       NaN\n",
       "2    Helena\n",
       "3     Atena\n",
       "4     Vênus\n",
       "5       NaN\n",
       "dtype: object"
      ]
     },
     "execution_count": 89,
     "metadata": {},
     "output_type": "execute_result"
    }
   ],
   "source": [
    "# bees\n",
    "inventado = ['Luigi', np.NaN, 'Helena', 'Atena', 'Vênus', np.NaN]\n",
    "bees = pd.Series(data = inventado)\n",
    "bees"
   ]
  },
  {
   "cell_type": "code",
   "execution_count": 86,
   "id": "1ea8b8d6",
   "metadata": {
    "ExecuteTime": {
     "end_time": "2022-10-12T21:16:01.088136Z",
     "start_time": "2022-10-12T21:16:01.081544Z"
    },
    "code_folding": [
     0
    ],
    "collapsed": true
   },
   "outputs": [
    {
     "data": {
      "text/plain": [
       "-6    0\n",
       "-5    1\n",
       "-4    2\n",
       "-3    3\n",
       "-2    4\n",
       "-1    5\n",
       "dtype: int64"
      ]
     },
     "execution_count": 86,
     "metadata": {},
     "output_type": "execute_result"
    }
   ],
   "source": [
    "# knees\n",
    "inventado = [str(_ - 6) for _ in range(6)]\n",
    "knees = pd.Series(data = [_ for _ in range(6)], index = inventado)\n",
    "knees"
   ]
  },
  {
   "cell_type": "markdown",
   "id": "d4f45952",
   "metadata": {},
   "source": [
    "agora eu vou pegar uma mask de NaNs em bees e passar como parametro para um apply uma lambda para duplicar exatamente esses itens"
   ]
  },
  {
   "cell_type": "code",
   "execution_count": 85,
   "id": "14c20b44",
   "metadata": {
    "ExecuteTime": {
     "end_time": "2022-10-12T21:15:57.827955Z",
     "start_time": "2022-10-12T21:15:57.821126Z"
    },
    "code_folding": [
     0
    ],
    "collapsed": true
   },
   "outputs": [
    {
     "data": {
      "text/plain": [
       "-6      0\n",
       "-5     32\n",
       "-4      2\n",
       "-3      3\n",
       "-2      4\n",
       "-1    160\n",
       "dtype: int64"
      ]
     },
     "execution_count": 85,
     "metadata": {},
     "output_type": "execute_result"
    }
   ],
   "source": [
    "# minha solução cheia de sintaxe e lógica de programação\n",
    "# return novo objeto com true no indicie cujo valor for NaN\n",
    "mask = bees.isnull()\n",
    "\n",
    "# eliminando os valores == False, ou seja ficando só com os iloc[] de NaN\n",
    "mask = mask[mask]\n",
    "\n",
    "# selecionando uma fatia de knees correspondente ao mesmo index de bees = NaN\n",
    "knees.iloc[mask.index]\n",
    "\n",
    "# subscrevendo esses valores(em knees) pelo dobro deles\n",
    "knees.iloc[mask.index] *= 2\n",
    "knees"
   ]
  },
  {
   "cell_type": "code",
   "execution_count": 84,
   "id": "f6d34f87",
   "metadata": {
    "ExecuteTime": {
     "end_time": "2022-10-12T21:15:14.516826Z",
     "start_time": "2022-10-12T21:15:14.508267Z"
    },
    "code_folding": [
     0,
     3,
     8,
     13
    ],
    "collapsed": true
   },
   "outputs": [
    {
     "name": "stdout",
     "output_type": "stream",
     "text": [
      "0    False\n",
      "1     True\n",
      "2    False\n",
      "3    False\n",
      "4    False\n",
      "5     True\n",
      "dtype: bool\n",
      "[False  True False False False  True]\n",
      "-5     8\n",
      "-1    40\n",
      "dtype: int64\n"
     ]
    },
    {
     "data": {
      "text/plain": [
       "-6     0\n",
       "-5    16\n",
       "-4     2\n",
       "-3     3\n",
       "-2     4\n",
       "-1    80\n",
       "dtype: int64"
      ]
     },
     "execution_count": 84,
     "metadata": {},
     "output_type": "execute_result"
    }
   ],
   "source": [
    "# solução requintada do gorm\n",
    "\n",
    "# return uma series com bool's, True quando o valor == NaN\n",
    "print(\n",
    "    pd.isna(bees)\n",
    ")\n",
    "\n",
    "# converte a Serie de entrada para uma array numpy\n",
    "print(\n",
    "    pd.isna(bees).to_numpy()\n",
    ")\n",
    "\n",
    "# passo essa array como pârmetro para iloc e ele me devolve uma slice com os valores na mesma posição de True\n",
    "print(\n",
    "    knees.loc[pd.isna(bees).to_numpy()]\n",
    ")\n",
    "\n",
    "# sintaxe corrida\n",
    "knees.loc[pd.isna(bees).to_numpy()] *= 2\n",
    "knees"
   ]
  }
 ],
 "metadata": {
  "kernelspec": {
   "display_name": "Python 3 (ipykernel)",
   "language": "python",
   "name": "python3"
  },
  "language_info": {
   "codemirror_mode": {
    "name": "ipython",
    "version": 3
   },
   "file_extension": ".py",
   "mimetype": "text/x-python",
   "name": "python",
   "nbconvert_exporter": "python",
   "pygments_lexer": "ipython3",
   "version": "3.8.10"
  },
  "varInspector": {
   "cols": {
    "lenName": 16,
    "lenType": 16,
    "lenVar": 40
   },
   "kernels_config": {
    "python": {
     "delete_cmd_postfix": "",
     "delete_cmd_prefix": "del ",
     "library": "var_list.py",
     "varRefreshCmd": "print(var_dic_list())"
    },
    "r": {
     "delete_cmd_postfix": ") ",
     "delete_cmd_prefix": "rm(",
     "library": "var_list.r",
     "varRefreshCmd": "cat(var_dic_list()) "
    }
   },
   "types_to_exclude": [
    "module",
    "function",
    "builtin_function_or_method",
    "instance",
    "_Feature"
   ],
   "window_display": false
  }
 },
 "nbformat": 4,
 "nbformat_minor": 5
}
