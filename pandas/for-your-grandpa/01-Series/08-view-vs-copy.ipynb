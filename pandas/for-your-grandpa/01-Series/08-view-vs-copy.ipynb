{
 "cells": [
  {
   "cell_type": "code",
   "execution_count": 2,
   "id": "0e66fc06",
   "metadata": {
    "ExecuteTime": {
     "end_time": "2022-10-11T18:58:50.654101Z",
     "start_time": "2022-10-11T18:58:50.650395Z"
    },
    "code_folding": [
     0
    ]
   },
   "outputs": [],
   "source": [
    "# 🐍 ⚜️ 🍁 imports\n",
    "import numpy as np \n",
    "import pandas as pd\n",
    "import random as rd"
   ]
  },
  {
   "cell_type": "markdown",
   "id": "4d1927f4",
   "metadata": {
    "heading_collapsed": true
   },
   "source": [
    "### 🐍 view & copy"
   ]
  },
  {
   "cell_type": "markdown",
   "id": "1f7721af",
   "metadata": {
    "hidden": true
   },
   "source": [
    "quando criamos uma variável a partir de outra, podemos estar criando um view | copy."
   ]
  },
  {
   "cell_type": "markdown",
   "id": "6e03730a",
   "metadata": {
    "hidden": true
   },
   "source": [
    "essa criação pode ser fruto do uso de um método pandas, que retorna o view | copy"
   ]
  },
  {
   "cell_type": "markdown",
   "id": "7dfc2bb9",
   "metadata": {
    "heading_collapsed": true,
    "hidden": true
   },
   "source": [
    "#### ⚜️ view"
   ]
  },
  {
   "cell_type": "markdown",
   "id": "442804d3",
   "metadata": {
    "hidden": true
   },
   "source": [
    "um view é quando o novo objeto gerado é na verdade o antigo-modificado, ou seja, se eu atribuir isso a uma nova variável, as duas irão apontar para o mesmo indereço de memória."
   ]
  },
  {
   "cell_type": "code",
   "execution_count": 24,
   "id": "647040b5",
   "metadata": {
    "ExecuteTime": {
     "end_time": "2022-10-11T19:25:56.492462Z",
     "start_time": "2022-10-11T19:25:56.489182Z"
    },
    "hidden": true
   },
   "outputs": [],
   "source": [
    "serie = pd.Series(data = [i for i in range(6)])\n",
    "mask = serie\n",
    "mask[:3] = 99"
   ]
  },
  {
   "cell_type": "code",
   "execution_count": 25,
   "id": "cdde7e8d",
   "metadata": {
    "ExecuteTime": {
     "end_time": "2022-10-11T19:25:58.241898Z",
     "start_time": "2022-10-11T19:25:58.237018Z"
    },
    "collapsed": true,
    "hidden": true
   },
   "outputs": [
    {
     "data": {
      "text/plain": [
       "0    99\n",
       "1    99\n",
       "2    99\n",
       "3     3\n",
       "4     4\n",
       "5     5\n",
       "dtype: int64"
      ]
     },
     "execution_count": 25,
     "metadata": {},
     "output_type": "execute_result"
    }
   ],
   "source": [
    "mask"
   ]
  },
  {
   "cell_type": "code",
   "execution_count": 26,
   "id": "a9704ed7",
   "metadata": {
    "ExecuteTime": {
     "end_time": "2022-10-11T19:26:08.007091Z",
     "start_time": "2022-10-11T19:26:08.001980Z"
    },
    "collapsed": true,
    "hidden": true
   },
   "outputs": [
    {
     "data": {
      "text/plain": [
       "0    99\n",
       "1    99\n",
       "2    99\n",
       "3     3\n",
       "4     4\n",
       "5     5\n",
       "dtype: int64"
      ]
     },
     "execution_count": 26,
     "metadata": {},
     "output_type": "execute_result"
    }
   ],
   "source": [
    "serie"
   ]
  },
  {
   "cell_type": "markdown",
   "id": "433a7038",
   "metadata": {
    "hidden": true
   },
   "source": [
    "repare que uma alteração na nova variável pode afetar a var oficial."
   ]
  },
  {
   "cell_type": "markdown",
   "id": "9e52c37b",
   "metadata": {
    "hidden": true
   },
   "source": [
    "#### ⚜️ copy"
   ]
  },
  {
   "cell_type": "code",
   "execution_count": 27,
   "id": "f57a6aba",
   "metadata": {
    "ExecuteTime": {
     "end_time": "2022-10-11T19:26:18.428601Z",
     "start_time": "2022-10-11T19:26:18.424204Z"
    },
    "hidden": true
   },
   "outputs": [],
   "source": [
    "serie = pd.Series(data = [i for i in range(6)])\n",
    "mask = serie.copy()\n",
    "mask[:3] = 99"
   ]
  },
  {
   "cell_type": "code",
   "execution_count": 28,
   "id": "2534938c",
   "metadata": {
    "ExecuteTime": {
     "end_time": "2022-10-11T19:26:19.014791Z",
     "start_time": "2022-10-11T19:26:19.010129Z"
    },
    "collapsed": true,
    "hidden": true
   },
   "outputs": [
    {
     "data": {
      "text/plain": [
       "0    99\n",
       "1    99\n",
       "2    99\n",
       "3     3\n",
       "4     4\n",
       "5     5\n",
       "dtype: int64"
      ]
     },
     "execution_count": 28,
     "metadata": {},
     "output_type": "execute_result"
    }
   ],
   "source": [
    "mask"
   ]
  },
  {
   "cell_type": "code",
   "execution_count": 29,
   "id": "e35b2d38",
   "metadata": {
    "ExecuteTime": {
     "end_time": "2022-10-11T19:26:19.894312Z",
     "start_time": "2022-10-11T19:26:19.889266Z"
    },
    "collapsed": true,
    "hidden": true
   },
   "outputs": [
    {
     "data": {
      "text/plain": [
       "0    0\n",
       "1    1\n",
       "2    2\n",
       "3    3\n",
       "4    4\n",
       "5    5\n",
       "dtype: int64"
      ]
     },
     "execution_count": 29,
     "metadata": {},
     "output_type": "execute_result"
    }
   ],
   "source": [
    "serie"
   ]
  },
  {
   "cell_type": "markdown",
   "id": "496dc122",
   "metadata": {
    "hidden": true
   },
   "source": [
    "o metodo Series.copy() cria um novo objeto com base nos dados do antigo, por ser outro objeto completamente diferente, não há qualquer ligação de uma var á outra."
   ]
  },
  {
   "cell_type": "markdown",
   "id": "8a9d773a",
   "metadata": {
    "heading_collapsed": true
   },
   "source": [
    "### 🐍 sumário de métodos"
   ]
  },
  {
   "cell_type": "markdown",
   "id": "45bdd86f",
   "metadata": {
    "hidden": true
   },
   "source": [
    "a documentação dos metodos que retoronam view e copys é meio obscura, portanto é sempre interessante testar e guardar os resultados de forma fácil de encontrar depois, por isso vou tentar sempre relatar meus testes aqui em um formato bem simplificado..."
   ]
  },
  {
   "cell_type": "markdown",
   "id": "8f4c2f03",
   "metadata": {
    "heading_collapsed": true,
    "hidden": true
   },
   "source": [
    "#### ⚜️ Series.iloc[]"
   ]
  },
  {
   "cell_type": "markdown",
   "id": "3c3817c5",
   "metadata": {
    "hidden": true
   },
   "source": [
    "return a view"
   ]
  },
  {
   "cell_type": "markdown",
   "id": "329af372",
   "metadata": {
    "heading_collapsed": true,
    "hidden": true
   },
   "source": [
    "#### ⚜️ Series.loc[]"
   ]
  },
  {
   "cell_type": "markdown",
   "id": "0a502cb5",
   "metadata": {
    "hidden": true
   },
   "source": [
    "return a copy"
   ]
  }
 ],
 "metadata": {
  "kernelspec": {
   "display_name": "Python 3 (ipykernel)",
   "language": "python",
   "name": "python3"
  },
  "language_info": {
   "codemirror_mode": {
    "name": "ipython",
    "version": 3
   },
   "file_extension": ".py",
   "mimetype": "text/x-python",
   "name": "python",
   "nbconvert_exporter": "python",
   "pygments_lexer": "ipython3",
   "version": "3.8.10"
  },
  "varInspector": {
   "cols": {
    "lenName": 16,
    "lenType": 16,
    "lenVar": 40
   },
   "kernels_config": {
    "python": {
     "delete_cmd_postfix": "",
     "delete_cmd_prefix": "del ",
     "library": "var_list.py",
     "varRefreshCmd": "print(var_dic_list())"
    },
    "r": {
     "delete_cmd_postfix": ") ",
     "delete_cmd_prefix": "rm(",
     "library": "var_list.r",
     "varRefreshCmd": "cat(var_dic_list()) "
    }
   },
   "types_to_exclude": [
    "module",
    "function",
    "builtin_function_or_method",
    "instance",
    "_Feature"
   ],
   "window_display": false
  }
 },
 "nbformat": 4,
 "nbformat_minor": 5
}
