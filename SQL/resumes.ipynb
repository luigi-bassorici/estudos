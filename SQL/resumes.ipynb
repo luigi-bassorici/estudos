{
 "cells": [
  {
   "cell_type": "markdown",
   "metadata": {
    "heading_collapsed": true
   },
   "source": [
    "# ❇️ Visão geral"
   ]
  },
  {
   "cell_type": "markdown",
   "metadata": {
    "hidden": true
   },
   "source": [
    "❇️✴️⚛️🆎"
   ]
  },
  {
   "cell_type": "markdown",
   "metadata": {
    "heading_collapsed": true,
    "hidden": true
   },
   "source": [
    "## ✴️ O que é um banco de dados ?"
   ]
  },
  {
   "cell_type": "markdown",
   "metadata": {
    "hidden": true
   },
   "source": [
    "Um bando de dados é um grande amuntuado de dados, porém devidamente estruturados, para que sejam gerenciáveis e facilmente acessados.\n",
    "\n",
    "um banco de dados é diferente de um arquivo .csv ou de um arquivo de excel, ele é pensado para comportar um volume muito maior de dados."
   ]
  },
  {
   "cell_type": "markdown",
   "metadata": {
    "heading_collapsed": true,
    "hidden": true
   },
   "source": [
    "## ✴️ O que é SQL e MySQL?"
   ]
  },
  {
   "cell_type": "markdown",
   "metadata": {
    "hidden": true
   },
   "source": [
    "Bom, o conceito de banco de dados é um tanto teórico, para que algo seja realizado com estes tais dados, precisamos de um software que crie e armazene os bancos de dados na memória da máquina (pode ser o meu computador por exemplo,assim como o servidor de uma empresa), e este software é o nosso querido MySQL.\n",
    "\n",
    "Resumindo: MySQL é o software que estrutura e armazena os bancos de dados.\n",
    "\n",
    "O SQL (Structured Query Language) é o que dá liga nesta nossa química, pois é escrevendo queries (scripts para busca) que nós fazemos o uso de toda essa estrutura, desde a criação de um DB, até a exportação dos dados tratados e prontos para serem analisados. \n",
    "\n",
    "Resumindo: O SQL é o controle remoto de um banco de dados, é com ele que fazemos tudo em um DB."
   ]
  },
  {
   "cell_type": "markdown",
   "metadata": {
    "heading_collapsed": true,
    "hidden": true
   },
   "source": [
    "## ✴️ Como um banco de dados se parece ?"
   ]
  },
  {
   "cell_type": "markdown",
   "metadata": {
    "hidden": true
   },
   "source": [
    "Neste ponto é importante saber que existem termos usados durante o processo de ETL, eles podem ser um pouco diferente dos termos usados por cientistas de dados, por exemplo... o termo 'variável' é muito pouco usado, ao invés disso chamamos de 'campos'.\n",
    "\n",
    "Então aqui vai um mini dicionário de termos usados no cotidiano de um 'banqueiro de dados'\n",
    "\n",
    "\n",
    "- Banco de dados: é um conjunto de tabelas\n",
    "\n",
    "- Tabelas: é o que realmente usamos - semelhante ao pandas.DataFrame ou qualquer tabela de excel\n",
    "\n",
    "- Campos: são as colunas das tabelas - as variáveis\n",
    "\n",
    "- Registros: são as linhas da tabela\n",
    "\n",
    "- Query: é o script em sql que realiza principalmente as buscas nos bancos de dados (buscar e/ou editar as tabelas)\n",
    "\n",
    "> Print de um DB chamado Olist, ele possui 8 tabelas\n",
    "\n",
    "<img src=\"imgs/DB_ref.png\" width=\"200\">\n",
    "\n",
    "> Print de uma tabela cahmada customers - clientes - com 5 campos\n",
    "\n",
    "<img src=\"imgs/table_ref.png\" width=\"800\">\n",
    "\n"
   ]
  },
  {
   "cell_type": "markdown",
   "metadata": {},
   "source": [
    "# ❇️ Básico de SQL"
   ]
  },
  {
   "cell_type": "markdown",
   "metadata": {},
   "source": [
    "Antes de tudo é importante mencionar que a sintaxe do SQL é praticamente uma instrução em inglês, e que a dormatação do código não é importante para a sua execução, mas para a leitura."
   ]
  },
  {
   "cell_type": "markdown",
   "metadata": {
    "heading_collapsed": true
   },
   "source": [
    "## ✴️SELECT"
   ]
  },
  {
   "cell_type": "markdown",
   "metadata": {
    "hidden": true
   },
   "source": [
    "O select é o comando mais importante da inguagem SQL, ele é o comando que diz *\"Vai lá no nosso banco de dados e pegaa isso, isso e aquilo pra gente fazer uma análise legal\"*\n",
    " \n",
    "Para que o select funcione voce precisa passar algumas cláusulas, como de qual tabela retirar os dados e quais campos da tabela vc vai querer... pois bem, agora basta escrever isto em ingles:\n",
    "\n",
    "``` SQL\n",
    "\n",
    "SELECT\n",
    "    campo_x,\n",
    "    campo_y,\n",
    "    campo_z\n",
    "FROM nossa_tabela;\n",
    "\n",
    "```\n",
    "\n",
    "Esta query simples retornará da \"nossa_tabela\" os campos ali especificados, se eu quizer todos os campos desta mesma tabela bastaria substituir os nomes dos campos pelo operador **\" * \"**, dessa forma:\n",
    "\n",
    "\n",
    "``` SQL\n",
    "\n",
    "SELECT\n",
    "    *\n",
    "FROM nossa_tabela;\n",
    "\n",
    "```\n",
    "\n",
    "Eu tambem posso renomear os campos, adicionando um *alias* com o comando **AS**\n",
    "\n",
    "``` SQL\n",
    "\n",
    "SELECT\n",
    "    unique_cliente_id AS ID,\n",
    "    nome_cliente AS nome,\n",
    "    cliente_contato_principal AS contato\n",
    "FROM nossa_tabela;\n",
    "\n",
    "```"
   ]
  },
  {
   "cell_type": "markdown",
   "metadata": {},
   "source": [
    "## ✴️ WHERE"
   ]
  },
  {
   "cell_type": "markdown",
   "metadata": {},
   "source": [
    "WHERE é uma cláusula utilizada em consultas SQL para filtrar os resultados baseados em uma condição específica. Ele é usado em conjunto com o comando SELECT para retornar somente as linhas que atendem a determinados critérios de busca.\n",
    "\n",
    "A sintaxe é a seguinte:\n",
    "\n",
    "```sql\n",
    "\n",
    "SELECT campo1, campo2, ...\n",
    "FROM table_name\n",
    "WHERE condition;\n",
    "\n",
    "```\n",
    "\n",
    "Onde \"table_name\" é o nome da tabela que você deseja consultar, \"campo1, campo2, ...\" são os campos que você deseja selecionar e \"condition\" é a condição pela qual você deseja filtrar os resultados. A condição pode ser qualquer expressão lógica que retorne true ou false.\n",
    "\n",
    "Algumas operações comuns que podem ser usadas em condições WHERE incluem operadores de comparação (como \"=\", \">\", \"<\", \">=\", \"<=\", \"!=\"), operadores lógicos (como \"AND\", \"OR\", \"NOT\") e funções de agregação (como \"SUM\", \"AVG\", \"MAX\", \"MIN\").\n",
    "\n",
    "O comando WHERE pode ser usado em conjunto com outras cláusulas SQL, como ORDER BY, GROUP BY e JOIN, para refinar ainda mais os resultados da consulta.\n",
    "\n",
    "Por hora, apenas entenda que WHERE significa \"onde x coindição for verdadeira\"."
   ]
  },
  {
   "cell_type": "markdown",
   "metadata": {
    "heading_collapsed": true
   },
   "source": [
    "## ✴️ Operadores"
   ]
  },
  {
   "cell_type": "markdown",
   "metadata": {
    "hidden": true
   },
   "source": [
    "Importante para criar condições os operadores são pura lógica de programação. A seguir vou apresentar os principais operadores e após isso dar exemplos do seu uso, parece muita coisa mas não é! são apenas palavrinhas para dar liga no nosso código."
   ]
  },
  {
   "cell_type": "markdown",
   "metadata": {
    "heading_collapsed": true,
    "hidden": true
   },
   "source": [
    "### ⚛️ simples\n",
    "##### Operadores de comparação:\n",
    "\n",
    "- Igual: **=**\n",
    "- Diferente: **<>, !=**\n",
    "- Maior que: **>**\n",
    "- Menor que: **<**\n",
    "- Maior ou igual que: **>=**\n",
    "- Menor ou igual que: **<=**\n",
    "\n",
    "> O uso dos operadores de comparação exige dois elementos a serem comparados, a sintaxe é super intuitiva, será algo como:\n",
    "```sql\n",
    "\n",
    "SELECT *\n",
    "FROM tb_pessoas\n",
    "WHERE idade >= 18\n",
    "\n",
    "```\n",
    "\n",
    "##### Operadores lógicos:\n",
    "\n",
    "- **AND**: retorna verdadeiro se todas as condições forem verdadeiras\n",
    "- **OR**: retorna verdadeiro se pelo menos uma das condições for verdadeira\n",
    "- **NOT**: inverte o resultado da condição\n",
    "- **IN ()**: afirma que o que o precede está contido dentro da tupla que vem logo após\n",
    "\n",
    "\n",
    "\n",
    "\n",
    "### ⚛️ Avançadinhos\n",
    "\n",
    "- **LIKE**: o operador LIKE é usado para comparar valores de string em uma cláusula WHERE. Ele permite que você encontre padrões em uma coluna de texto. O operador LIKE é geralmente usado com o caractere curinga \"%\" .\n",
    "\n",
    "- **BETWEEN**: o operador BETWEEN é usado para selecionar valores dentro de um intervalo. Ele permite que você especifique um intervalo de valores em uma única cláusula.\n",
    "\n",
    "\n",
    "- **IS NULL**: o operador IS NULL é usado para selecionar linhas em que uma determinada coluna é nula."
   ]
  },
  {
   "cell_type": "markdown",
   "metadata": {
    "heading_collapsed": true,
    "hidden": true
   },
   "source": [
    "### ⚛️ Exemplos"
   ]
  },
  {
   "cell_type": "markdown",
   "metadata": {
    "heading_collapsed": true,
    "hidden": true
   },
   "source": [
    "#### 🆎 AND"
   ]
  },
  {
   "cell_type": "markdown",
   "metadata": {
    "hidden": true
   },
   "source": [
    "Selecionar os pedidos entregues **E** pagos com boleto:\n",
    "```sql\n",
    "\n",
    "SELECT *\n",
    "FROM pedidos\n",
    "WHERE status 'entregue' AND gateway = 'boleto' \n",
    "\n",
    "```"
   ]
  },
  {
   "cell_type": "markdown",
   "metadata": {
    "heading_collapsed": true,
    "hidden": true
   },
   "source": [
    "#### 🆎 OR"
   ]
  },
  {
   "cell_type": "markdown",
   "metadata": {
    "heading_collapsed": true,
    "hidden": true
   },
   "source": [
    "Selecionar os pedidos pagos com cartão de débito **OU** carãto de crédito:\n",
    "```sql\n",
    "\n",
    "SELECT *\n",
    "FROM pedidos\n",
    "WHERE gateway = 'debit_card' OR gateway = 'credit_card' \n",
    "\n",
    "```"
   ]
  },
  {
   "cell_type": "markdown",
   "metadata": {
    "heading_collapsed": true,
    "hidden": true
   },
   "source": [
    "#### 🆎 IN ()"
   ]
  },
  {
   "cell_type": "markdown",
   "metadata": {
    "hidden": true
   },
   "source": [
    "Selecionar os registro com o valor do campo gateway contido em ('debit_card', 'credit_card'):\n",
    "```sql\n",
    "\n",
    "SELECT *\n",
    "FROM pedidos\n",
    "WHERE gateway  IN ('debit_card', 'credit_card') \n",
    "\n",
    "```\n",
    "\n",
    "> por seu uso ser mais específico a explicão fica um pouco técnica"
   ]
  },
  {
   "cell_type": "markdown",
   "metadata": {
    "heading_collapsed": true,
    "hidden": true
   },
   "source": [
    "#### 🆎 NOT"
   ]
  },
  {
   "cell_type": "markdown",
   "metadata": {
    "hidden": true
   },
   "source": [
    "Selecionar os registro com o valor do campo gateway não está contido em ('debit_card', 'credit_card'):\n",
    "```sql\n",
    "\n",
    "SELECT *\n",
    "FROM pedidos\n",
    "WHERE gateway NOT IN ('debit_card', 'credit_card') \n",
    "\n",
    "```\n",
    "\n",
    "> Pode ser conveniente para escrever menos, suponha que temos 15 métodos de pagamentos e queremos todos exceto x e y"
   ]
  },
  {
   "cell_type": "markdown",
   "metadata": {
    "heading_collapsed": true,
    "hidden": true
   },
   "source": [
    "#### 🆎 BETWEEN"
   ]
  },
  {
   "cell_type": "markdown",
   "metadata": {
    "hidden": true
   },
   "source": [
    "Selecionar os cliientes que possuem a idade entre 18 e 30 (incluindo 18 ou 30):\n",
    "```sql\n",
    "\n",
    "SELECT *\n",
    "FROM clientes\n",
    "WHERE idade BETWEEN 18 AND 30 \n",
    "\n",
    "```"
   ]
  },
  {
   "cell_type": "markdown",
   "metadata": {
    "heading_collapsed": true,
    "hidden": true
   },
   "source": [
    "#### 🆎 LIKE"
   ]
  },
  {
   "cell_type": "markdown",
   "metadata": {
    "hidden": true
   },
   "source": [
    "Selecionar os clientes com silva **em qualquer parte** do seu nome\n",
    "```sql\n",
    "\n",
    "SELECT *\n",
    "FROM clientes\n",
    "WHERE nome LIKE '%silva%'\n",
    "\n",
    "```"
   ]
  },
  {
   "cell_type": "markdown",
   "metadata": {
    "hidden": true
   },
   "source": [
    "Selecionar os clientes com silva **no final** do seu nome\n",
    "```sql\n",
    "\n",
    "SELECT *\n",
    "FROM clientes\n",
    "WHERE nome LIKE '%silva'\n",
    "\n",
    "```"
   ]
  },
  {
   "cell_type": "markdown",
   "metadata": {
    "hidden": true
   },
   "source": [
    "Selecionar os clientes com pedro **no começo** do seu nome\n",
    "```sql\n",
    "\n",
    "SELECT *\n",
    "FROM clientes\n",
    "WHERE nome LIKE 'pedro%'\n",
    "\n",
    "```"
   ]
  },
  {
   "cell_type": "markdown",
   "metadata": {
    "hidden": true
   },
   "source": [
    "Selecionar os clientes com pedro - seguido de espaço no começo do seu nome\n",
    "```sql\n",
    "\n",
    "SELECT *\n",
    "FROM clientes\n",
    "WHERE nome LIKE 'pedro %'\n",
    "\n",
    "```\n",
    "\n",
    "> pode haver um cliente com o nome pedroso, e nós querermos apenas os pedros."
   ]
  },
  {
   "cell_type": "markdown",
   "metadata": {
    "hidden": true
   },
   "source": [
    "Estes exemplos foram fracos, mas podemos entender que o comando LIKE faz a investigação de *strings*\n",
    "\n",
    "\n",
    "Um detalhe importante é que o sql não possui case sensitive, ou seja, se eu pesquisa LIKE '%a%' ele vai retornar todas as strings com algo parecido com 'a', como: [á, ã, A, â ...]"
   ]
  },
  {
   "cell_type": "markdown",
   "metadata": {
    "heading_collapsed": true,
    "hidden": true
   },
   "source": [
    "#### 🆎 IS NULL"
   ]
  },
  {
   "cell_type": "markdown",
   "metadata": {
    "hidden": true
   },
   "source": [
    "Selecionar os registro cujo o campo contato está vazio (NULL):\n",
    "\n",
    "```sql\n",
    "\n",
    "SELECT *\n",
    "FROM clientes\n",
    "WHERE contato IS NULL\n",
    "\n",
    "```"
   ]
  },
  {
   "cell_type": "markdown",
   "metadata": {},
   "source": [
    "## ✴️ Funções de agregação"
   ]
  },
  {
   "cell_type": "markdown",
   "metadata": {},
   "source": [
    "## ✴️ Subquery"
   ]
  },
  {
   "cell_type": "markdown",
   "metadata": {},
   "source": [
    "## ✴️ WITH"
   ]
  },
  {
   "cell_type": "markdown",
   "metadata": {
    "heading_collapsed": true
   },
   "source": [
    "## ✴️ GROUP BY + ORDER BY"
   ]
  },
  {
   "cell_type": "markdown",
   "metadata": {
    "heading_collapsed": true
   },
   "source": [
    "## ✴️ JOIN"
   ]
  },
  {
   "cell_type": "markdown",
   "metadata": {
    "heading_collapsed": true
   },
   "source": [
    "## ✴️ CASE WHEN + COALESCE()"
   ]
  },
  {
   "cell_type": "markdown",
   "metadata": {},
   "source": [
    "## ✴️ Window functions"
   ]
  }
 ],
 "metadata": {
  "kernelspec": {
   "display_name": "Python 3 (ipykernel)",
   "language": "python",
   "name": "python3"
  },
  "language_info": {
   "codemirror_mode": {
    "name": "ipython",
    "version": 3
   },
   "file_extension": ".py",
   "mimetype": "text/x-python",
   "name": "python",
   "nbconvert_exporter": "python",
   "pygments_lexer": "ipython3",
   "version": "3.10.6"
  },
  "vscode": {
   "interpreter": {
    "hash": "bf29f83a16ff47b87eb88054800ef979ef2a02ea31ad3df626daa792409b2bfc"
   }
  }
 },
 "nbformat": 4,
 "nbformat_minor": 2
}
