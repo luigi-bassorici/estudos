{
 "cells": [
  {
   "cell_type": "markdown",
   "id": "24c70f41",
   "metadata": {},
   "source": [
    "# Frequências e medidas"
   ]
  },
  {
   "cell_type": "markdown",
   "id": "326d5d78",
   "metadata": {
    "heading_collapsed": true
   },
   "source": [
    "## Tabela de distribuição de frequências"
   ]
  },
  {
   "cell_type": "markdown",
   "id": "8b844313",
   "metadata": {
    "hidden": true
   },
   "source": [
    "O principal metodo para obter a distribuição de frequências de uma variável é o [value_counts()](https://pandas.pydata.org/docs/reference/api/pandas.Series.value_counts.html), serve tanto para obter a frequência relativa como a absoluta.\n",
    "\n",
    "\n",
    "Para a representação gráfica é indicado usar um **histograma**.\n",
    "\n",
    "\n",
    "> Usar métodos como [pd.crosstab](https://pandas.pydata.org/docs/reference/api/pandas.crosstab.html) ou [pd.cut](https://pandas.pydata.org/pandas-docs/stable/generated/pandas.cut.html) nos auxilia á cruzar dados e melhorar a nossa análise,  além disso podemos usar a [regra de sturgens](https://geokrigagem.com.br/numero_classes_histograma_regra_sturges/#:~:text=N%C3%BAmero%20de%20classes%20do%20histograma%3A%20regra%20de%20Sturges&text=17%2D18%3B%20Wellmer%2C%201998,pontos%20de%20dados%20%C3%A9%2018.) para saber em quantas categorias separar uma variável quantitativa.\n",
    "\n"
   ]
  },
  {
   "cell_type": "markdown",
   "id": "ed6f6507",
   "metadata": {
    "heading_collapsed": true
   },
   "source": [
    "## Medidas de tendência central"
   ]
  },
  {
   "cell_type": "markdown",
   "id": "fe4b65b6",
   "metadata": {
    "hidden": true
   },
   "source": [
    "Média [mean()](https://pandas.pydata.org/pandas-docs/stable/reference/api/pandas.Series.mean.html)\n",
    "\n",
    "meidana [median()](https://pandas.pydata.org/pandas-docs/stable/reference/api/pandas.Series.median.html)\n",
    "\n",
    "moda [mode()](https://pandas.pydata.org/docs/reference/api/pandas.Series.mode.html#pandas.Series.mode)\n",
    "\n",
    "Vale lembrar que o mode() retorna o numero(s) que mais apareceu naquele conjunto, mas se ninguém se repetir ele retorna um numero mesmo assim."
   ]
  },
  {
   "cell_type": "markdown",
   "id": "b020b0e5",
   "metadata": {
    "heading_collapsed": true
   },
   "source": [
    "## Medidas separatrizes"
   ]
  },
  {
   "cell_type": "markdown",
   "id": "6d688689",
   "metadata": {
    "hidden": true
   },
   "source": [
    "as medidas separatrizes são os **quartis, decis e percentis**, eles podem nos auxiliar na visualização da nossa distribuição e podem servir de margem para extratificar uma variável para analise\n",
    "\n",
    "Existe o método pandas [quantile()](https://pandas.pydata.org/docs/reference/api/pandas.DataFrame.quantile.html) que serve para identificar os n pontos de separação na nossa  variável, por padrão ele identifica o ponto  que separa ao meio (moda ou segundo quantil), mas podemos manipular os parâmetros para que ele seja útil em todos os 3 tipos de medidas separatrizes."
   ]
  },
  {
   "cell_type": "markdown",
   "id": "1da48561",
   "metadata": {
    "heading_collapsed": true
   },
   "source": [
    "## Medidas de dispersão"
   ]
  },
  {
   "cell_type": "markdown",
   "id": "40b578b5",
   "metadata": {
    "hidden": true
   },
   "source": []
  },
  {
   "cell_type": "markdown",
   "id": "ce7d91d4",
   "metadata": {
    "hidden": true
   },
   "source": [
    "Amplitude total: [var.max()](https://pandas.pydata.org/pandas-docs/stable/reference/api/pandas.Series.max.html) - [var.min()](https://pandas.pydata.org/pandas-docs/stable/generated/pandas.Series.min.html)\n",
    "\n",
    "Desvio médio absoluto - [var.mad()](https://pandas.pydata.org/pandas-docs/stable/generated/pandas.Series.mad.html)\n",
    "\n",
    "Variância - [var.var()](https://pandas.pydata.org/pandas-docs/stable/reference/api/pandas.Series.var.html)\n",
    "\n",
    "Desvio padrão - [var.std()](https://pandas.pydata.org/pandas-docs/stable/generated/pandas.Series.std.html)"
   ]
  },
  {
   "cell_type": "markdown",
   "id": "0309d71b",
   "metadata": {
    "heading_collapsed": true
   },
   "source": [
    "## prox"
   ]
  }
 ],
 "metadata": {
  "kernelspec": {
   "display_name": "Python 3 (ipykernel)",
   "language": "python",
   "name": "python3"
  },
  "language_info": {
   "codemirror_mode": {
    "name": "ipython",
    "version": 3
   },
   "file_extension": ".py",
   "mimetype": "text/x-python",
   "name": "python",
   "nbconvert_exporter": "python",
   "pygments_lexer": "ipython3",
   "version": "3.10.6"
  },
  "varInspector": {
   "cols": {
    "lenName": 16,
    "lenType": 16,
    "lenVar": 40
   },
   "kernels_config": {
    "python": {
     "delete_cmd_postfix": "",
     "delete_cmd_prefix": "del ",
     "library": "var_list.py",
     "varRefreshCmd": "print(var_dic_list())"
    },
    "r": {
     "delete_cmd_postfix": ") ",
     "delete_cmd_prefix": "rm(",
     "library": "var_list.r",
     "varRefreshCmd": "cat(var_dic_list()) "
    }
   },
   "types_to_exclude": [
    "module",
    "function",
    "builtin_function_or_method",
    "instance",
    "_Feature"
   ],
   "window_display": false
  }
 },
 "nbformat": 4,
 "nbformat_minor": 5
}
