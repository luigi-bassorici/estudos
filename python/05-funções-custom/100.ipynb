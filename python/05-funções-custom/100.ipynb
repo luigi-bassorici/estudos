{
 "cells": [
  {
   "cell_type": "markdown",
   "id": "bd6922fb",
   "metadata": {},
   "source": [
    "Faça um programa que tenha uma lista chamada números e duas funções chamadas sorteia() e somaPar(). A primeira função vai sortear 5 números e vai colocá-los dentro da lista e a segunda função vai mostrar a soma entre todos os valores pares sorteados pela função anterior.\n"
   ]
  },
  {
   "cell_type": "code",
   "execution_count": 96,
   "id": "01c69cfd",
   "metadata": {
    "ExecuteTime": {
     "end_time": "2022-09-27T17:14:32.056200Z",
     "start_time": "2022-09-27T17:14:32.051638Z"
    },
    "code_folding": [
     3,
     5,
     9,
     11
    ]
   },
   "outputs": [
    {
     "name": "stdout",
     "output_type": "stream",
     "text": [
      "[2, 1, 9, 7, 3]\n",
      "2\n"
     ]
    }
   ],
   "source": [
    "numeros = []\n",
    "\n",
    "\n",
    "def sortear(a):\n",
    "    from random import randint\n",
    "    for i in range(5):\n",
    "        a.append(randint(1, 9))\n",
    "\n",
    "\n",
    "def somapar(a):\n",
    "    soma = 0\n",
    "    for i in a:\n",
    "        if i % 2 == 0:\n",
    "            soma += i\n",
    "    print(soma)\n",
    "\n",
    "\n",
    "sortear(numeros)\n",
    "\n",
    "print(numeros)\n",
    "\n",
    "somapar(numeros)"
   ]
  }
 ],
 "metadata": {
  "kernelspec": {
   "display_name": "Python 3 (ipykernel)",
   "language": "python",
   "name": "python3"
  },
  "language_info": {
   "codemirror_mode": {
    "name": "ipython",
    "version": 3
   },
   "file_extension": ".py",
   "mimetype": "text/x-python",
   "name": "python",
   "nbconvert_exporter": "python",
   "pygments_lexer": "ipython3",
   "version": "3.10.6"
  },
  "varInspector": {
   "cols": {
    "lenName": 16,
    "lenType": 16,
    "lenVar": 40
   },
   "kernels_config": {
    "python": {
     "delete_cmd_postfix": "",
     "delete_cmd_prefix": "del ",
     "library": "var_list.py",
     "varRefreshCmd": "print(var_dic_list())"
    },
    "r": {
     "delete_cmd_postfix": ") ",
     "delete_cmd_prefix": "rm(",
     "library": "var_list.r",
     "varRefreshCmd": "cat(var_dic_list()) "
    }
   },
   "types_to_exclude": [
    "module",
    "function",
    "builtin_function_or_method",
    "instance",
    "_Feature"
   ],
   "window_display": false
  }
 },
 "nbformat": 4,
 "nbformat_minor": 5
}
