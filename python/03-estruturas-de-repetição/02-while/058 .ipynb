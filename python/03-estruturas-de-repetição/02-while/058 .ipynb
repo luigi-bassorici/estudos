{
 "cells": [
  {
   "cell_type": "markdown",
   "id": "efa5912e",
   "metadata": {},
   "source": [
    "criar um programa que pense em um numero de 0 á 10 e pergunte o palpite do usuário, compare os dois e mostre se o usuário adivinhou o número ou não"
   ]
  },
  {
   "cell_type": "code",
   "execution_count": 8,
   "id": "88f2c128",
   "metadata": {},
   "outputs": [
    {
     "name": "stdout",
     "output_type": "stream",
     "text": [
      "dê o seu palpite: 5\n",
      "essa eu ganhei! tente novamente: 5\n",
      "essa eu ganhei! tente novamente: 5\n",
      "essa eu ganhei! tente novamente: 5\n",
      "essa eu ganhei! tente novamente: 5\n",
      "finalmente, vc ganhou!\n"
     ]
    }
   ],
   "source": [
    "from random import *\n",
    "c = randint(0, 10)\n",
    "p = int(input(\"dê o seu palpite: \"))\n",
    "while p != c:\n",
    "    c = randint(0, 10)5\n",
    "\n",
    "    p = int(input(\"essa eu ganhei! tente novamente: \"))\n",
    "print(\"finalmente, vc ganhou!\")"
   ]
  }
 ],
 "metadata": {
  "kernelspec": {
   "display_name": "Python 3 (ipykernel)",
   "language": "python",
   "name": "python3"
  },
  "language_info": {
   "codemirror_mode": {
    "name": "ipython",
    "version": 3
   },
   "file_extension": ".py",
   "mimetype": "text/x-python",
   "name": "python",
   "nbconvert_exporter": "python",
   "pygments_lexer": "ipython3",
   "version": "3.10.6"
  },
  "varInspector": {
   "cols": {
    "lenName": 16,
    "lenType": 16,
    "lenVar": 40
   },
   "kernels_config": {
    "python": {
     "delete_cmd_postfix": "",
     "delete_cmd_prefix": "del ",
     "library": "var_list.py",
     "varRefreshCmd": "print(var_dic_list())"
    },
    "r": {
     "delete_cmd_postfix": ") ",
     "delete_cmd_prefix": "rm(",
     "library": "var_list.r",
     "varRefreshCmd": "cat(var_dic_list()) "
    }
   },
   "types_to_exclude": [
    "module",
    "function",
    "builtin_function_or_method",
    "instance",
    "_Feature"
   ],
   "window_display": false
  }
 },
 "nbformat": 4,
 "nbformat_minor": 5
}
