{
 "cells": [
  {
   "cell_type": "markdown",
   "id": "9faeca85",
   "metadata": {},
   "source": [
    "Crie um programa que leia nome, ano de nascimento e carteira de trabalho e cadastre-o (com idade) em um dicionário. Se por acaso a CTPS for diferente de ZERO, o dicionário receberá também o ano de contratação e o salário. Calcule e acrescente, além da idade, com quantos anos a pessoa vai se aposentar."
   ]
  },
  {
   "cell_type": "code",
   "execution_count": 2,
   "id": "044650d3",
   "metadata": {},
   "outputs": [
    {
     "name": "stdout",
     "output_type": "stream",
     "text": [
      "Nome: luigi\n",
      "Ano de nascimento: 2003\n",
      "Carteira de trabalho (0 não tem): 12\n",
      "Ano de contratação: 2020\n",
      "Quanto era o seu salário? R$ 6000\n",
      "\n",
      "Consulta de aposentadoria:\n",
      "\n",
      "nome : luigi\n",
      "idade : 19\n",
      "carteira : 12\n",
      "contratação : 2020\n",
      "salario : 6000.0\n",
      "aposentadoria : 57\n"
     ]
    }
   ],
   "source": [
    "from datetime import *\n",
    "\n",
    "dic = {}\n",
    "dic['nome'] = input('Nome: ')\n",
    "nasceu = int(input('Ano de nascimento: '))\n",
    "dic['idade'] = datetime.now().year - nasceu\n",
    "dic['carteira'] = int(input('Carteira de trabalho (0 não tem): '))\n",
    "\n",
    "if dic['carteira'] == 0:\n",
    "    print(\"como você não possui registro de CTPS, não poderá se aposentar\")\n",
    "                    \n",
    "else:\n",
    "    dic['contratação'] = int(input('Ano de contratação: '))\n",
    "    dic['salario'] = float(input('Quanto era o seu salário? R$ '))\n",
    "    dic['aposentadoria'] = 65\n",
    "    if dic['contratação'] + 40 < nasceu + 65:\n",
    "        dic['aposentadoria'] = dic['contratação'] + 40 - nasceu\n",
    "\n",
    "    print(\"\\nConsulta de aposentadoria:\\n\")\n",
    "    for k,v in dic.items():\n",
    "        print(f\"{k} : {v}\")"
   ]
  }
 ],
 "metadata": {
  "kernelspec": {
   "display_name": "Python 3 (ipykernel)",
   "language": "python",
   "name": "python3"
  },
  "language_info": {
   "codemirror_mode": {
    "name": "ipython",
    "version": 3
   },
   "file_extension": ".py",
   "mimetype": "text/x-python",
   "name": "python",
   "nbconvert_exporter": "python",
   "pygments_lexer": "ipython3",
   "version": "3.10.6"
  },
  "varInspector": {
   "cols": {
    "lenName": 16,
    "lenType": 16,
    "lenVar": 40
   },
   "kernels_config": {
    "python": {
     "delete_cmd_postfix": "",
     "delete_cmd_prefix": "del ",
     "library": "var_list.py",
     "varRefreshCmd": "print(var_dic_list())"
    },
    "r": {
     "delete_cmd_postfix": ") ",
     "delete_cmd_prefix": "rm(",
     "library": "var_list.r",
     "varRefreshCmd": "cat(var_dic_list()) "
    }
   },
   "types_to_exclude": [
    "module",
    "function",
    "builtin_function_or_method",
    "instance",
    "_Feature"
   ],
   "window_display": false
  }
 },
 "nbformat": 4,
 "nbformat_minor": 5
}
