{
 "cells": [
  {
   "cell_type": "code",
   "execution_count": 1,
   "id": "83dec964",
   "metadata": {
    "ExecuteTime": {
     "end_time": "2022-09-25T16:35:47.809809Z",
     "start_time": "2022-09-25T16:35:38.911882Z"
    }
   },
   "outputs": [
    {
     "name": "stdout",
     "output_type": "stream",
     "text": [
      "digite um número : 1458418\n",
      "\n",
      "[1] Binario\n",
      "[2] Hexadecimal\n",
      "[3] Octadecimal\n",
      "\n",
      "escolha o sistema a converter: 2\n",
      "\n",
      "o 1458418 convertido para \u001b[4;34mOctal\u001b[m fica 5440362\n"
     ]
    }
   ],
   "source": [
    "number = int(input(\"digite um número : \" ))\n",
    "\n",
    "print('\\n[1] Binario\\n[2] Hexadecimal\\n[3] Octadecimal')\n",
    "\n",
    "b = int(input(\"\\nescolha o sistema a converter: \"))\n",
    "\n",
    "if b == 1:\n",
    "     print(f\"\\no {number} convertido para \\033[4;34mBinário\\033[m fica {bin(number) [2:]}\")\n",
    "\n",
    "elif b == 2:\n",
    "    print(f\"\\no {number} convertido para \\033[4;34mOctal\\033[m fica {oct(number) [2:]}\")\n",
    "\n",
    "elif b == 3:\n",
    "    print(f\"\\no {number} convertido para \\033[4;34mHexadecimal\\033[m fica {hex(number) [2:]}\")\n",
    "\n",
    "else:\n",
    "    print(\"O numero está errado, tente novamente\")"
   ]
  }
 ],
 "metadata": {
  "kernelspec": {
   "display_name": "Python 3 (ipykernel)",
   "language": "python",
   "name": "python3"
  },
  "language_info": {
   "codemirror_mode": {
    "name": "ipython",
    "version": 3
   },
   "file_extension": ".py",
   "mimetype": "text/x-python",
   "name": "python",
   "nbconvert_exporter": "python",
   "pygments_lexer": "ipython3",
   "version": "3.10.6"
  },
  "varInspector": {
   "cols": {
    "lenName": 16,
    "lenType": 16,
    "lenVar": 40
   },
   "kernels_config": {
    "python": {
     "delete_cmd_postfix": "",
     "delete_cmd_prefix": "del ",
     "library": "var_list.py",
     "varRefreshCmd": "print(var_dic_list())"
    },
    "r": {
     "delete_cmd_postfix": ") ",
     "delete_cmd_prefix": "rm(",
     "library": "var_list.r",
     "varRefreshCmd": "cat(var_dic_list()) "
    }
   },
   "types_to_exclude": [
    "module",
    "function",
    "builtin_function_or_method",
    "instance",
    "_Feature"
   ],
   "window_display": false
  }
 },
 "nbformat": 4,
 "nbformat_minor": 5
}
