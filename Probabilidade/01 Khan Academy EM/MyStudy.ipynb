{
 "cells": [
  {
   "cell_type": "markdown",
   "id": "cca7429d",
   "metadata": {
    "heading_collapsed": true
   },
   "source": [
    "# Análise combinatória"
   ]
  },
  {
   "cell_type": "markdown",
   "id": "8aca741b",
   "metadata": {
    "heading_collapsed": true,
    "hidden": true
   },
   "source": [
    "## Principios de contagem"
   ]
  },
  {
   "cell_type": "markdown",
   "id": "f52f10c2",
   "metadata": {
    "hidden": true
   },
   "source": [
    "Dado um conjunto de variáveis, é possivel mostrar quantas possibilidades de conbinações podem ser criadas a partir daquelas opções, o principio de contagem é justamente a simplificação desse ato de  contar as possibilidades de combinações.\n",
    "\n",
    "\n",
    "Se não ficou bem claro veja o exemplo a seguir:\n",
    "\n",
    "\n",
    "> Luan que montar um pc gamer, então ele selecionou algumas peças que são de sua preferência, dentre essas estão: 4 processadores, 5 placas de video, 2 fontes e 5 gabinetes. Quantas combinações de diferentes ele pode montar dada essa variedade de peças?\n",
    "\n",
    "200 combinações diferentes\n",
    "\n",
    "Vc pode fazer a contagem manual de cada possibilidade ou pode usar uma formulinha que entregue o resultado rápido e sem erros..."
   ]
  },
  {
   "cell_type": "markdown",
   "id": "886e3dcc",
   "metadata": {
    "heading_collapsed": true,
    "hidden": true
   },
   "source": [
    "## Fatorial"
   ]
  },
  {
   "cell_type": "markdown",
   "id": "ec47718a",
   "metadata": {
    "hidden": true
   },
   "source": [
    "O fatorial de um número natural é definido como o produto deste número por todos os seus antecessores. Utilizamos o símbolo fatorial para indicar o fatorial de um número.\n",
    "\n",
    "Define-se ainda que o fatorial de zero é igual a 1.\n",
    "\n",
    "- O! = 1\n",
    "- 1! = 1\n",
    "- 3! = 3.2.1 = 6\n",
    "- 7! = 7.6.5.4.3.2.1 = 5 040\n",
    "- 10! = 10.9.8.7.6.5.4.3.2.1 = 3 628 800"
   ]
  },
  {
   "cell_type": "markdown",
   "id": "80283b22",
   "metadata": {
    "hidden": true
   },
   "source": [
    " ### exemplo:\n",
    " \n",
    " dado o conjunto (1, 2, 3, 4, 5) pode se organizar de diferentes formas...\n",
    " \n",
    "- 12345\n",
    "- 12354\n",
    "- 13245\n",
    "- 13425\n",
    "\n",
    " . . . .\n",
    "\n",
    "- 54321\n",
    "\n",
    "> existem 120 possibilidades = 5 fatorial = 5!"
   ]
  },
  {
   "cell_type": "markdown",
   "id": "0d8da402",
   "metadata": {
    "heading_collapsed": true,
    "hidden": true
   },
   "source": [
    "## Arranjo simples"
   ]
  },
  {
   "cell_type": "markdown",
   "id": "2b5d4f8a",
   "metadata": {
    "hidden": true
   },
   "source": [
    "O arranjo simples é realmente muito simples, a ideia é ter um grupo de valores e \"arranjar\" eles em um conjunto de tamanho p, com arranjar queremos dizer **preencher esse conjunto com os numeros disponiveis sem repeti-los**.\n",
    "\n",
    "banco de valores = 1, 2, 3, 4, 5, 6\n",
    "\n",
    "conjunto a ser preenchido = - - - - \n",
    "\n",
    "existem 360 possiveis conjuntos de 4 numeros que podem ser montados com as nossas 6 opções sem repetir nenhum destes. "
   ]
  },
  {
   "cell_type": "markdown",
   "id": "1538a106",
   "metadata": {
    "heading_collapsed": true,
    "hidden": true
   },
   "source": [
    "## Permutação"
   ]
  },
  {
   "cell_type": "markdown",
   "id": "d9c4c3aa",
   "metadata": {
    "hidden": true
   },
   "source": [
    "Permutação é semelante ao arranjo simples, porém só é aplicada quando p = n , ou seja o numero de valores disponiveis é igual ao comprimento do espaço onde estes serão ordenados\n",
    "\n",
    "\n",
    "por exemplo: organizar 3 pessoas em 3 cadeiras.\n",
    "\n",
    "a forma de fazer isto é simplesmente aplicar o fatorial de n ou de p, no caso do exemplo a resposta seria 3! ou 6."
   ]
  },
  {
   "cell_type": "markdown",
   "id": "a343559a",
   "metadata": {
    "heading_collapsed": true,
    "hidden": true
   },
   "source": [
    "## Combinação"
   ]
  },
  {
   "cell_type": "markdown",
   "id": "9c167363",
   "metadata": {
    "hidden": true
   },
   "source": [
    "A combinação é semelhante as outras duas formas de contagem de possibilidades, porém nesta a ordem dos individuos não importa, \n",
    "\n",
    "> um suco maçã, mamão e banana não é diferente de um suco de mamão, maçã e banana.\n",
    "\n",
    "Agora imagine ter 9 frutas disponiveis, cada trio de frutas condensa 6 diferentes arranjos com as mesmas frutas.\n",
    "\n",
    "\n",
    "**Formula :**\n",
    "\n",
    " ### n!/p!(n-p)!\n",
    " \n",
    " \n",
    " resolvendo o nosso exemplo aplicando a formula teriamos que para n=9 e  p=3...\n",
    " \n",
    " 9!/ 3! x 6! = \"84 trios de frutas\""
   ]
  },
  {
   "cell_type": "markdown",
   "id": "5d5c71b9",
   "metadata": {
    "heading_collapsed": true
   },
   "source": [
    "# Probabilidade"
   ]
  },
  {
   "cell_type": "markdown",
   "id": "076389ab",
   "metadata": {
    "heading_collapsed": true,
    "hidden": true
   },
   "source": [
    "## Definição de probabilidade"
   ]
  },
  {
   "cell_type": "markdown",
   "id": "6d51159e",
   "metadata": {
    "hidden": true
   },
   "source": [
    "A probabilidade simplesmente determina qual é a chance de algo acontecer.Toda vez que não temos certeza sobre o resultado de algum evento, estamos tratando da probabilidade de certos resultados acontecerem.\n",
    "\n",
    "A probabilidade que vamos usar para exempplificar é a probabilidade clássica, que é a forma mais intuitiva de gerar a predição, pois ela se baseia em calculos matemáticos e inferencias lógicas. como um exmeplo de uma moeda ou um dado, ou algo controlado onde podemos dominar as variáveis."
   ]
  },
  {
   "cell_type": "markdown",
   "id": "31441603",
   "metadata": {
    "heading_collapsed": true,
    "hidden": true
   },
   "source": [
    "## cálculo"
   ]
  },
  {
   "cell_type": "markdown",
   "id": "ba9ed1b7",
   "metadata": {
    "hidden": true
   },
   "source": [
    "O cálculo de probabilidade se dá pela divisão do número que o evento desejado pode ocorrer pelo espaço amostral.\n",
    "\n",
    "\n",
    "Pode parecer complexo mas é até bem simples, **x/y, sendo x o evento que quero estudar e y todos os eventos que podem ocorrer.**\n",
    "\n",
    "Exemplo: se pensarmos no lançamento de um dado de 6 lados, e querermos saber a probabilidade de aquele dado cair com a face > 2 voltada para cima, então temos 4/6, o que dá ~66,6%, isso porque existem 4 situações dentre as 6 possiveis que satisfazem a condição."
   ]
  },
  {
   "cell_type": "markdown",
   "id": "54d8da5b",
   "metadata": {
    "hidden": true
   },
   "source": [
    "O resultado deste cálculo deve ser algo entre 0 e 1, e pode ser convertido para fração ou porcentagem."
   ]
  },
  {
   "cell_type": "markdown",
   "id": "524da753",
   "metadata": {
    "heading_collapsed": true,
    "hidden": true
   },
   "source": [
    "## Outros termos"
   ]
  },
  {
   "cell_type": "markdown",
   "id": "3bbfbf8a",
   "metadata": {
    "hidden": true
   },
   "source": [
    "**Experimento aleatório**\n",
    "\n",
    "É qualquer experiência cujo resultado não seja conhecido. Por exemplo: ao jogar uma moeda e observar a face superior, é impossível saber qual das faces da moeda ficará voltada para cima, exceto no caso em que a moeda seja viciada (modificada para ter um resultado mais frequentemente).\n",
    "\n",
    "Suponha que uma sacola de supermercado contenha maçãs verdes e vermelhas. Retirar uma maçã de dentro da sacola sem olhar também é um experimento aleatório.\n",
    "\n",
    "**Ponto amostral**\n",
    "\n",
    "Um ponto amostral é qualquer resultado possível em um experimento aleatório. Por exemplo: no lançamento de um dado, o resultado (o número que aparece na face superior) pode ser 1, 2, 3, 4, 5 ou 6. Então, cada um desses números é um ponto amostral desse experimento.\n",
    "\n",
    "\n",
    "**Espaço amostral**\n",
    "\n",
    "O espaço amostral é o conjunto formado por todos os pontos amostrais de um experimento aleatório, ou seja, por todos os seus resultados possíveis. Dessa maneira, o resultado de um experimento aleatório, mesmo que não seja previsível, sempre pode ser encontrado dentro do espaço amostral referente a ele.\n",
    "\n",
    "Como os espaços amostrais são conjuntos de resultados possíveis, utilizamos as representações de conjuntos para esses espaços. Por exemplo: O espaço amostral referente ao experimento “lançamento de um dado” é o conjunto Ω, tal que:\n",
    "\n",
    "Ω = {1, 2, 3, 4, 5, 6}\n",
    "\n",
    "Esse conjunto também pode ser representado pelo diagrama de Venn ou, dependendo do experimento, por alguma lei de formação.\n",
    "\n",
    "O número de elementos dos espaços amostrais é representado por n(Ω). No caso do exemplo anterior, n(Ω) = 6. Lembre-se de que os elementos de um espaço amostral são pontos amostrais, ou seja, resultados possíveis de um experimento aleatório.\""
   ]
  },
  {
   "cell_type": "markdown",
   "id": "8f993544",
   "metadata": {
    "heading_collapsed": true,
    "hidden": true
   },
   "source": [
    "## Tipos de eventos"
   ]
  },
  {
   "cell_type": "markdown",
   "id": "fcce6a17",
   "metadata": {
    "hidden": true
   },
   "source": [
    "Sabendo que a probabilidade retorna um valor entre 0 e 1, podem,os reparar algumas propriedades desse resultado.\n",
    "\n",
    "\n",
    "Temos **eventos certos e impossíveis**, que correspondem a 100% e 0% de probabilidade, respectivamente. Normalmente estes eventos surgem a partir de inferências lógicas, pois no mundo real é praticamente impossível inferir com que algo é impossivel ou que algo certamente acontecerá."
   ]
  },
  {
   "cell_type": "markdown",
   "id": "fb5e0a2b",
   "metadata": {
    "hidden": true
   },
   "source": [
    "Existem os **eventos que parecem uma certeza concreta**, mas devido a sua complexidade, não podemos  inferir com 100% de certeza sua probabilidade, como a resposta de \"qual a chance do sol nascer amanhã ?\""
   ]
  },
  {
   "cell_type": "markdown",
   "id": "07b69294",
   "metadata": {
    "hidden": true
   },
   "source": [
    "E tem aqueles eventos no meio do caminho, onde podemos dizer que provavelmente algo ocorrerá (atravez da comparaçãode probabilidade entre ocorrer vs não ocorrer). Podemos considerar essas predições moderadas as que geram mais insights, uma vez que estas podem revelar o que a nossa intuição humana não pode enxergar."
   ]
  },
  {
   "cell_type": "markdown",
   "id": "70c30b9d",
   "metadata": {
    "hidden": true
   },
   "source": [
    "Ainda existe \"a probabilidade que não existe\", onde todos oseventos tem a mesma chance de ocorrer, sendo assim parecido com o exmeplo da moeda, onde eu não possodizer que um lado x tem mais chance de ser escolhido que o outro. portanto não existe um \"provavelmente...\""
   ]
  },
  {
   "cell_type": "markdown",
   "id": "3a64224b",
   "metadata": {
    "hidden": true
   },
   "source": [
    "mentalmente fiz a separação entre:\n",
    "\n",
    "- certezas absolutas\n",
    "\n",
    "probabilidade de 100 ou 0% de algo ocorrer.\n",
    "\n",
    "- quase certezas\n",
    "\n",
    "probabilidade de 99,999999...998% de algo ocorrer ou 0,000000...001%\n",
    "- comparação de probabilidades\n",
    "\n",
    "70% vs 30%\n",
    "45% vs 30%\n",
    "\n",
    "- sem probabilidade\n",
    "50-50"
   ]
  },
  {
   "cell_type": "markdown",
   "id": "23e2fe33",
   "metadata": {
    "heading_collapsed": true
   },
   "source": [
    "# Probabilidade experimental"
   ]
  },
  {
   "cell_type": "markdown",
   "id": "43ec26cc",
   "metadata": {
    "hidden": true
   },
   "source": [
    "Isto que estudamos até agora foi **probabilidade clássica**, quando podemos minimamente controlar o ambiente , pois controlamos as variáveis, já quando precisamos prever eventos mais complexos como qual time de futebol irá ser o campeão da liga dos campeões da europa na temporada 22-23, podemos encontrar muitas dificuldades para estimar algo uma vez que esse evento envolve muitas variáveis que não estão sobre o nosso controle ou sequer temos conhecimento."
   ]
  },
  {
   "cell_type": "markdown",
   "id": "d8279b96",
   "metadata": {
    "hidden": true
   },
   "source": [
    "Para realizar esse predição (com menos acertividade do que um lançar de dados) precisamos analisar eventos passados e levar em conta várias variáveis, podemos usar métodos estatistícos para analisar os eventos passados, e assim **estimar** a probabilidade de taltime ganhar em relação aos demais."
   ]
  },
  {
   "cell_type": "markdown",
   "id": "ab661cdb",
   "metadata": {
    "hidden": true
   },
   "source": [
    "Vamos assumir um evento mais simples, de, \"Qual o jogador a fazer o próximo gol pelo Grêmio FBPA ?\" podemos usar a métrica de artilhaira desse time para ESTIMAR que o jogador que mais marcou na competição  ou nas ultimas temporadas é o que tem mais chances de fazer o próximo gol do tricolor gaúcho."
   ]
  },
  {
   "cell_type": "markdown",
   "id": "73ef0386",
   "metadata": {
    "heading_collapsed": true,
    "hidden": true
   },
   "source": [
    "## clássica vs  experimental"
   ]
  },
  {
   "cell_type": "markdown",
   "id": "7342236b",
   "metadata": {
    "hidden": true
   },
   "source": [
    "A diferença destas duas é bem simples, ela se dá na medida que a probabilidade clássica ou teórica é obtida através de métodos matemáticos e uso de lógica, já a experimental é obtida empiricamente, ou seja, realizando testes e/ou registrando dados."
   ]
  },
  {
   "cell_type": "markdown",
   "id": "94581fc7",
   "metadata": {
    "hidden": true
   },
   "source": [
    "Por exemplo, um evento pode ter uma probabilidade teórica de 50-50, mas quando realizsmos testes, verificamos que aquela probabilidade não se concretizou nos testes (precisa ser um volume muito grande de testes para serem relevantes) vamos supor que eu simulei um evento 10.000 vezes e tive uma relação de 70-30, esse registro tem bastante relevância, portanto a probabilidade teorica é contrariada pela exeprimental, nesses casos é sempre preciso estudar variáveis externas e questionar a validade dos testes..."
   ]
  },
  {
   "attachments": {
    "image.png": {
     "image/png": "[encoded data removed]"
    }
   },
   "cell_type": "markdown",
   "id": "adf4a744",
   "metadata": {
    "hidden": true
   },
   "source": [
    "O mais provavel é que haja um comportamento que contrarie a probabilidade teórica em um range muito curto de eventos, mas que tenha a tentência no sentido dela com o decorrer dos testes... como este exemplo:\n",
    "\n",
    "![image.png](attachment:image.png)"
   ]
  },
  {
   "cell_type": "markdown",
   "id": "9065d097",
   "metadata": {
    "hidden": true
   },
   "source": [
    "Sempre que nos for pedida a probabilidade experimental, devemos nos basear apenas nos números do experimento apresentado para fazer os cálculos, mas é preciso ficar claro que a probabilidade clássica nos dá valores diferentes, pois se baseia em um número muito grande de experimentos.\n"
   ]
  },
  {
   "cell_type": "markdown",
   "id": "6abe9358",
   "metadata": {
    "heading_collapsed": true
   },
   "source": [
    "# Probabilidade da união de eventos"
   ]
  },
  {
   "cell_type": "markdown",
   "id": "0d4ab4eb",
   "metadata": {
    "hidden": true
   },
   "source": [
    "A probabilidade usando a lógica de conjuntos e diagrama de venn.\n",
    "\n",
    "Isso pode nos ajudar a visualizar melhor como se comporta a probabilidade para situações especificas, quando de certa forma extratificamos os eventos em fases, ou variáveis...\n",
    "\n",
    "...Para **exemplo** vamos imaginar um baralho (sem coringas), onde possua 4 nipes e 13 cartas de cada nipe A , 1 ... 10, J, Q, K . Temos 52 no total...\n",
    "\n",
    "Qual a probabilidade de eu retirar uma carta aleatória e esta ser:\n",
    "\n",
    "- A) uma carta de copas qualquer?\n",
    "- B) um valete de copas?\n",
    "- C) um valete ou uma carta de copas qualquer?\n",
    "\n",
    "### A )\n",
    "A chance e de 13/52 = 1/4\n",
    "\n",
    "estamos extratificando o conjunto de cartas em apenas uma variavel , nipe\n",
    "\n",
    "### B )\n",
    "A chance e de  4/52 = 1/13\n",
    "\n",
    "estamos extratificando o conjunto de cartas em apenas uma variavel , tipo de carta\n",
    "\n",
    "### C )\n",
    "A chance e de  4 + 13 - intersecção/52\n",
    "4 + 13 - 1 = 16, então 16/52 = 4/13\n",
    "\n",
    "estamos extratificando o conjunto de cartas em apenas uma variavel , tipo de carta e nipe, sendo assim teremos nesse caso uma carta que se encaixa nos dois extratos, o valete de copas."
   ]
  },
  {
   "attachments": {
    "image.png": {
     "image/png": "[encoded data removed]"
    }
   },
   "cell_type": "markdown",
   "id": "29cb82a4",
   "metadata": {
    "hidden": true
   },
   "source": [
    "relembrando intersecção\n",
    "\n",
    "![image.png](attachment:image.png)"
   ]
  },
  {
   "cell_type": "markdown",
   "id": "e4ee0790",
   "metadata": {
    "heading_collapsed": true
   },
   "source": [
    "# Probabilidade condicional"
   ]
  },
  {
   "cell_type": "markdown",
   "id": "fe3a8fe1",
   "metadata": {
    "hidden": true
   },
   "source": [
    "Diferente da união de eventos, esta separa os acontecidos em fases, isso é, quando um evento ocorre nos temos uma mudança no espaço amostral, isso porque as possibilidades se reduzem, por exemplo, em um jogar de dados, qual a probabilidade de o resultado ser maior que 9 sendo que o resultado do primeiro dado foi maior que 4?\n",
    "\n",
    "O primeiro evento já ocorreu, ele certamente interfere nas chances do segundo evento ocorrer."
   ]
  },
  {
   "cell_type": "markdown",
   "id": "99e17fa7",
   "metadata": {
    "hidden": true
   },
   "source": [
    "O cálculo muda de p(A) + p(B) - p(A e B) / Espaço amostral para p(A e B) / p(X)\n",
    "\n",
    "Sendo X o número de possibilidades do evento que ocorreu primeiro.\n",
    "\n",
    "Isso é, se o evento b ocorreu primeiro, então o espaço amostral agora é o numero de possibilidades do evento b acontecer, ao inves do todo. Isto faz com que os cálculos de probabilidade condicional se transformem numa verdadeira regra de 3, e que a sua visualização seja comunmente feita com uma estrutura arvore."
   ]
  },
  {
   "cell_type": "markdown",
   "id": "2eefb054",
   "metadata": {
    "heading_collapsed": true
   },
   "source": [
    "# Eventos dependentes e independentes"
   ]
  },
  {
   "cell_type": "markdown",
   "id": "2c9f445e",
   "metadata": {
    "hidden": true
   },
   "source": [
    "Esse assunto é uma extensão do conteúdo anterior, a retórica é a seguinte, se um evento ocorrer ele muda as chances de um outro acontecer? se sim entáo um é dependente do outro, dependente pode ser lido como atrelado ou vinculado.\n",
    "\n",
    "Por exemplo, se eu sorteio um número de 1 á 10, e esse número é par, a chance dele ser primo é maior ou menor do que a chance de um numero qualquer dentre os dez ser primo ?\n",
    "\n",
    "a chance diminui muito pois antes tinhamos 3:10 e agora temos 1:5 primos em espaço amostral."
   ]
  },
  {
   "cell_type": "markdown",
   "id": "839ac8a1",
   "metadata": {
    "hidden": true
   },
   "source": [
    "O espaço amostral muda, de forma que quando realizamos o calculo de probabilidade antes e depois o resultado é diferente, pode ser mais fácil ocorrer algo depois de um evento ou mais difícil."
   ]
  },
  {
   "cell_type": "markdown",
   "id": "fa06e598",
   "metadata": {},
   "source": [
    "# Probabilidade composta"
   ]
  },
  {
   "cell_type": "markdown",
   "id": "5e3536cf",
   "metadata": {},
   "source": [
    "quando temos eventos com mais de uma fase, como jogar uma moeda várias vezes ou algo assim."
   ]
  },
  {
   "cell_type": "markdown",
   "id": "ab817a08",
   "metadata": {
    "heading_collapsed": true
   },
   "source": [
    "## Eventos independentes"
   ]
  },
  {
   "cell_type": "markdown",
   "id": "a6eab2a2",
   "metadata": {
    "hidden": true
   },
   "source": [
    "Quando jogamos uma moeda 10 vezes, a probabilidade de 50-50 não muda com base nos lances observados, os eventos passados não afetam as probabilidades de eventos futuros, isto significa que a chance de uma moeda cair cara depois de ter caido 90 vezes coroa não aumenta, por exemplo."
   ]
  },
  {
   "cell_type": "markdown",
   "id": "15697751",
   "metadata": {
    "hidden": true
   },
   "source": [
    "Isso também é verdade mesmo quando os eventos possiveis possuem diferentes chances de ocorrerem, pois não são igualmente possiveis, as vezes nem são a mesma coisa, estamos acostumados a tomar como exemplo coisas simples como o lançamento de dados ou moedas, mas certamente vamos no deparar com questões mais complexas em breve..."
   ]
  },
  {
   "cell_type": "markdown",
   "id": "c6406b0f",
   "metadata": {
    "hidden": true
   },
   "source": [
    "**Exemplo:**\n",
    "\n",
    "Suponha a seguinte situação: Marcus sempre viaja a trabalho e leva um de seus filhos com ele, Arthur, Gabriel ou Matheus. Ele possui dois carros para viajar, um carro vermelho e um carro azul.\n",
    "Pensando em todas essas opções, qual é a probabilidade de Marcus viajar no carro azul com seu filho Gabriel?"
   ]
  },
  {
   "attachments": {
    "image.png": {
     "image/png": "[encoded data removed]"
    }
   },
   "cell_type": "markdown",
   "id": "f470ab5b",
   "metadata": {
    "hidden": true
   },
   "source": [
    "![image.png](attachment:image.png)"
   ]
  },
  {
   "cell_type": "markdown",
   "id": "d27d709a",
   "metadata": {
    "hidden": true
   },
   "source": [
    "aqui vemos um exemplo onde temos dois eventos com probabilidades diferentes acontecendo em uma cadeia"
   ]
  },
  {
   "cell_type": "markdown",
   "id": "6ba2078f",
   "metadata": {},
   "source": [
    "## Eventos dependentes"
   ]
  },
  {
   "cell_type": "markdown",
   "id": "1e55c4f5",
   "metadata": {},
   "source": [
    "A probabilidade composta de eventos dependentes significa que a ordem dos eventos importa, pois um evento que ocorre primeiro altera a probabilidade do segundo, então basicamente ele constroe a prob do segundo."
   ]
  },
  {
   "cell_type": "markdown",
   "id": "87cdd7cb",
   "metadata": {},
   "source": []
  },
  {
   "cell_type": "markdown",
   "id": "25b4f534",
   "metadata": {},
   "source": []
  }
 ],
 "metadata": {
  "kernelspec": {
   "display_name": "Python 3 (ipykernel)",
   "language": "python",
   "name": "python3"
  },
  "language_info": {
   "codemirror_mode": {
    "name": "ipython",
    "version": 3
   },
   "file_extension": ".py",
   "mimetype": "text/x-python",
   "name": "python",
   "nbconvert_exporter": "python",
   "pygments_lexer": "ipython3",
   "version": "3.10.6"
  },
  "varInspector": {
   "cols": {
    "lenName": 16,
    "lenType": 16,
    "lenVar": 40
   },
   "kernels_config": {
    "python": {
     "delete_cmd_postfix": "",
     "delete_cmd_prefix": "del ",
     "library": "var_list.py",
     "varRefreshCmd": "print(var_dic_list())"
    },
    "r": {
     "delete_cmd_postfix": ") ",
     "delete_cmd_prefix": "rm(",
     "library": "var_list.r",
     "varRefreshCmd": "cat(var_dic_list()) "
    }
   },
   "types_to_exclude": [
    "module",
    "function",
    "builtin_function_or_method",
    "instance",
    "_Feature"
   ],
   "window_display": false
  }
 },
 "nbformat": 4,
 "nbformat_minor": 5
}
